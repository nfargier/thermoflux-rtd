{
 "cells": [
  {
   "cell_type": "markdown",
   "metadata": {},
   "source": [
    "##     Case study iMM904 curation\n",
    " Using the iMM904 model as a case study, we have used Thermo-Flux and did the few manual curation steps to show how models can be converted into a combined thermodynamic-stoichiometric model.\n",
    "Here, we present the steps that required manual attention when following the protocol described in the publication. \"\n",
    "    "
   ]
  },
  {
   "cell_type": "code",
   "execution_count": null,
   "metadata": {},
   "outputs": [],
   "source": [
    "import cobra\n",
    "from cobra import Model, Reaction, Metabolite\n",
    "from thermo_flux.core.metabolite import ThermoMetabolite\n",
    "import thermo_flux\n",
    "from thermo_flux.io import load_excel as ex\n",
    "from thermo_flux.core.model import ThermoModel, ThermoReaction\n",
    "from equilibrator_api import  Q_\n",
    "import pandas as pd\n",
    "from thermo_flux.io import load_gams as gs\n",
    "from thermo_flux.io import helper_load as hl\n",
    "from thermo_flux.utils.vis import compare_met\n",
    "import numpy as np\n",
    "import gurobipy as  gp\n",
    "from gurobipy import GRB\n",
    "\n",
    "\n",
    "import seaborn as sns\n",
    "import matplotlib.pyplot as plt\n"
   ]
  },
  {
   "cell_type": "markdown",
   "metadata": {},
   "source": [
    "Import sbml model from BiGG"
   ]
  },
  {
   "cell_type": "code",
   "execution_count": 2,
   "metadata": {},
   "outputs": [
    {
     "name": "stdout",
     "output_type": "stream",
     "text": [
      "Set parameter Username\n",
      "Academic license - for non-commercial use only - expires 2025-02-26\n",
      "0.9748814206733495\n"
     ]
    },
    {
     "data": {
      "text/html": [
       "<div>\n",
       "<style scoped>\n",
       "    .dataframe tbody tr th:only-of-type {\n",
       "        vertical-align: middle;\n",
       "    }\n",
       "\n",
       "    .dataframe tbody tr th {\n",
       "        vertical-align: top;\n",
       "    }\n",
       "\n",
       "    .dataframe thead th {\n",
       "        text-align: right;\n",
       "    }\n",
       "</style>\n",
       "<table border=\"1\" class=\"dataframe\">\n",
       "  <thead>\n",
       "    <tr style=\"text-align: right;\">\n",
       "      <th></th>\n",
       "      <th>fluxes</th>\n",
       "      <th>reduced_costs</th>\n",
       "    </tr>\n",
       "  </thead>\n",
       "  <tbody>\n",
       "    <tr>\n",
       "      <th>EX_epistest_SC_e</th>\n",
       "      <td>0.0</td>\n",
       "      <td>-96.275549</td>\n",
       "    </tr>\n",
       "    <tr>\n",
       "      <th>EX_epist_e</th>\n",
       "      <td>0.0</td>\n",
       "      <td>-1.676719</td>\n",
       "    </tr>\n",
       "    <tr>\n",
       "      <th>EX_ergst_e</th>\n",
       "      <td>0.0</td>\n",
       "      <td>-1.722387</td>\n",
       "    </tr>\n",
       "    <tr>\n",
       "      <th>EX_ergstest_SC_e</th>\n",
       "      <td>0.0</td>\n",
       "      <td>-96.321217</td>\n",
       "    </tr>\n",
       "    <tr>\n",
       "      <th>EX_13BDglcn_e</th>\n",
       "      <td>0.0</td>\n",
       "      <td>-0.196130</td>\n",
       "    </tr>\n",
       "    <tr>\n",
       "      <th>...</th>\n",
       "      <td>...</td>\n",
       "      <td>...</td>\n",
       "    </tr>\n",
       "    <tr>\n",
       "      <th>EX_xyl__D_e</th>\n",
       "      <td>0.0</td>\n",
       "      <td>-0.163442</td>\n",
       "    </tr>\n",
       "    <tr>\n",
       "      <th>EX_xylt_e</th>\n",
       "      <td>0.0</td>\n",
       "      <td>-0.176421</td>\n",
       "    </tr>\n",
       "    <tr>\n",
       "      <th>EX_rib__D_e</th>\n",
       "      <td>0.0</td>\n",
       "      <td>-0.163442</td>\n",
       "    </tr>\n",
       "    <tr>\n",
       "      <th>EX_zymst_e</th>\n",
       "      <td>0.0</td>\n",
       "      <td>-1.620476</td>\n",
       "    </tr>\n",
       "    <tr>\n",
       "      <th>EX_zymstest_SC_e</th>\n",
       "      <td>0.0</td>\n",
       "      <td>-96.219306</td>\n",
       "    </tr>\n",
       "  </tbody>\n",
       "</table>\n",
       "<p>164 rows × 2 columns</p>\n",
       "</div>"
      ],
      "text/plain": [
       "                  fluxes  reduced_costs\n",
       "EX_epistest_SC_e     0.0     -96.275549\n",
       "EX_epist_e           0.0      -1.676719\n",
       "EX_ergst_e           0.0      -1.722387\n",
       "EX_ergstest_SC_e     0.0     -96.321217\n",
       "EX_13BDglcn_e        0.0      -0.196130\n",
       "...                  ...            ...\n",
       "EX_xyl__D_e          0.0      -0.163442\n",
       "EX_xylt_e            0.0      -0.176421\n",
       "EX_rib__D_e          0.0      -0.163442\n",
       "EX_zymst_e           0.0      -1.620476\n",
       "EX_zymstest_SC_e     0.0     -96.219306\n",
       "\n",
       "[164 rows x 2 columns]"
      ]
     },
     "execution_count": 2,
     "metadata": {},
     "output_type": "execute_result"
    }
   ],
   "source": [
    "from cobra.io import load_json_model\n",
    "model=load_json_model('iMM904.json')\n",
    "\n",
    "#set objective to biomass\n",
    "model.objective = model.reactions.BIOMASS_SC5_notrace\n",
    "model.reactions.EX_co2_e.id='co2_EX'\n",
    "model.reactions.EX_o2_e.id='o2_EX'\n",
    "model.reactions.EX_etoh_e.id='etoh_EX'\n",
    "model.repair()\n",
    "\n",
    "for rxn in model.reactions:\n",
    "    if 'EX_' not in rxn.id:\n",
    "        rxn.lower_bound=-500 if rxn.lower_bound==-999999.0 else rxn.lower_bound\n",
    "        rxn.upper_bound=500 if rxn.upper_bound==999999.0 else rxn.upper_bound\n",
    "    else:\n",
    "        rxn.lower_bound=-500 if rxn.lower_bound==-999999.0 else rxn.lower_bound\n",
    "        rxn.upper_bound=500 if rxn.upper_bound==999999.0 else rxn.upper_bound\n",
    "       # print(rxn.id,rxn.lower_bound,rxn.upper_bound)\n",
    "\n",
    "#reset O2 exchange bound\n",
    "model.optimize().to_frame().loc['BIOMASS_SC5_notrace']['fluxes']\n",
    "model.reactions.o2_EX.bounds=(-500,0)\n",
    "\n",
    "print(model.optimize().to_frame().loc['BIOMASS_SC5_notrace']['fluxes'])\n",
    "model.optimize().to_frame().loc[[rxn.id for rxn in model.boundary]]\n",
    "\n"
   ]
  },
  {
   "cell_type": "code",
   "execution_count": 3,
   "metadata": {},
   "outputs": [
    {
     "name": "stderr",
     "output_type": "stream",
     "text": [
      "c:\\Users\\tedns\\anaconda3\\envs\\thermoflux\\lib\\site-packages\\cobra\\util\\solver.py:554: UserWarning: Solver status is 'infeasible'.\n",
      "  warn(f\"Solver status is '{status}'.\", UserWarning)\n"
     ]
    },
    {
     "data": {
      "image/png": "[encoded data removed]",
      "text/plain": [
       "<Figure size 640x480 with 1 Axes>"
      ]
     },
     "metadata": {},
     "output_type": "display_data"
    }
   ],
   "source": [
    "#plot biomass yield for stoichiometric model\n",
    "#GUR_range=[-0.25, -0.57, -0.6 , -1.1 , -1.67, -2.14, -2.22, -2.83, -3.24, -3.7, -4.67, -5.44, -7.62, -8.09, -8.33, -10.23, -13.18, -15.7, -22.42]\n",
    "GUR_range = np.linspace(-0, -23, 50)\n",
    "\n",
    "GUR_plot_range=[-x for x in GUR_range]\n",
    "biomass_flux=[]\n",
    "etoh_flux=[]\n",
    "o2_flux=[]\n",
    "co2_flux=[]\n",
    "for GUR in GUR_range:\n",
    "    model.reactions.EX_glc__D_e.upper_bound=0\n",
    "    model.reactions.EX_glc__D_e.lower_bound=GUR\n",
    "    sol = model.optimize()\n",
    "    #add values to list\n",
    "    biomass_flux.append(sol.fluxes.loc['BIOMASS_SC5_notrace'])\n",
    "    etoh_flux.append(sol.fluxes.loc['etoh_EX'])\n",
    "    o2_flux.append(sol.fluxes.loc['o2_EX'])\n",
    "    co2_flux.append(sol.fluxes.loc['co2_EX'])\n",
    "#plot biomass vs GUR in a scatter plot\n",
    "sns.scatterplot(x=GUR_plot_range,y=biomass_flux)\n",
    "plt.xlabel('Glucose uptake rate (mmol/(gDW.h))')\n",
    "plt.ylabel('Biomass production (mmol/(gDW.h))')\n",
    "fba_flux=pd.DataFrame({'biomass_EX':biomass_flux,'etoh_EX':etoh_flux,'o2_EX':o2_flux,'co2_EX':co2_flux},index=GUR_range)\n",
    "# plt.savefig('Figures/growth_stoichio_only.png',dpi=300)\n",
    "# model.optimize().to_frame().loc['BIOMASS_SC5_notrace']/model.optimize().to_frame().loc['EX_glc__D_e']"
   ]
  },
  {
   "cell_type": "markdown",
   "metadata": {},
   "source": [
    "### Step 1 - Physical and Biochemical parameters"
   ]
  },
  {
   "cell_type": "code",
   "execution_count": null,
   "metadata": {},
   "outputs": [
    {
     "name": "stdout",
     "output_type": "stream",
     "text": [
      "Initializing component contribution object...\n",
      "No valid license for cxcalc installed, operating in read-only mode. A local cache may be loaded, but no compounds can be created. Please obtain a ChemAxon license to enable compound creation.\n",
      "Loading compounds from iMM904_compound.sqlite\n",
      "added reaction:  biomass_ce: biomass_c <=> biomass_e\n",
      "added reaction:  biomass_EX: biomass_e <=> \n",
      "added reaction:  charge_ce: charge_e <=> charge_c\n",
      "added reaction:  EX_charge: charge_e <=> \n",
      "added reaction:  charge_cm: charge_m <=> charge_c\n",
      "added reaction:  charge_cx: charge_x <=> charge_c\n",
      "added reaction:  charge_cr: charge_r <=> charge_c\n",
      "added reaction:  charge_cv: charge_v <=> charge_c\n",
      "added reaction:  charge_cg: charge_g <=> charge_c\n",
      "added reaction:  charge_cn: charge_n <=> charge_c\n"
     ]
    }
   ],
   "source": [
    "tmodel=ThermoModel(model,split_biomass=True, add_charge_exchange= True)"
   ]
  },
  {
   "cell_type": "code",
   "execution_count": null,
   "metadata": {},
   "outputs": [],
   "source": [
    "#define the biochemical parameters of the model\n",
    "\n",
    "tmodel.phi={'ec': Q_(-0.06,'volt'), 'cm': Q_(-0.16,'volt'),'cx':Q_(0,'volt'),'cr':Q_(0,'volt'),'cv':Q_(0,'volt'),'cg':Q_(0,'volt'),'cn':Q_(0,'volt')}\n",
    "tmodel.pH={'c':Q_(7),'e':Q_(5),'m':Q_(7.4),'r':Q_(7),'v':Q_(5.5),'g':Q_(7),'x':Q_(7),'n':Q_(7)} #On the intracellular pH of baker’s yeast(r), Martinez-Munoz et al. 2008(v), Juan Llopis et al 1998 (g), 7 is default pH\n",
    "\n",
    "#change max drGcalc_drGt\n",
    "tmodel._max_drG=Q_(1e6,'kJ/mol') #max is already 1e8 shouldnt need to change\n"
   ]
  },
  {
   "cell_type": "markdown",
   "metadata": {},
   "source": [
    "### Step 2 - Definition of metabolites"
   ]
  },
  {
   "cell_type": "code",
   "execution_count": null,
   "metadata": {},
   "outputs": [
    {
     "name": "stdout",
     "output_type": "stream",
     "text": [
      "[██████████████████......................] 568/1236 gsn_m                                                                                                                                                                                \r"
     ]
    },
    {
     "name": "stderr",
     "output_type": "stream",
     "text": [
      "C:\\Users\\tedns\\AppData\\Local\\Temp\\ipykernel_1896\\2562127799.py:1: UserWarning: dolichol_c has inconsistent formula with eQuilibrator identified metabolite. COBRA:{'C': 15, 'H': 28, 'O': 1}, eQuilibrator:{'C': 25, 'O': 1}. Defining as unknown compound\n",
      "  tmodel.get_compounds(search = True)\n",
      "C:\\Users\\tedns\\AppData\\Local\\Temp\\ipykernel_1896\\2562127799.py:1: UserWarning: dolmanp_r has inconsistent formula with eQuilibrator identified metabolite. COBRA:{'C': 21, 'H': 38, 'O': 9, 'P': 1}, eQuilibrator:{'C': 31, 'O': 9, 'P': 1}. Defining as unknown compound\n",
      "  tmodel.get_compounds(search = True)\n",
      "C:\\Users\\tedns\\AppData\\Local\\Temp\\ipykernel_1896\\2562127799.py:1: UserWarning: glycogen_c has inconsistent formula with eQuilibrator identified metabolite. COBRA:{'C': 6, 'H': 10, 'O': 5}, eQuilibrator:{'O': 21, 'C': 24}. Defining as unknown compound\n",
      "  tmodel.get_compounds(search = True)\n",
      "C:\\Users\\tedns\\AppData\\Local\\Temp\\ipykernel_1896\\2562127799.py:1: UserWarning: glycogen_v has inconsistent formula with eQuilibrator identified metabolite. COBRA:{'C': 6, 'H': 10, 'O': 5}, eQuilibrator:{'O': 21, 'C': 24}. Defining as unknown compound\n",
      "  tmodel.get_compounds(search = True)\n"
     ]
    },
    {
     "name": "stdout",
     "output_type": "stream",
     "text": [
      "[███████████████████████████.............] 843/1236 pmtcoa_c                                                                                      \r"
     ]
    },
    {
     "name": "stderr",
     "output_type": "stream",
     "text": [
      "C:\\Users\\tedns\\AppData\\Local\\Temp\\ipykernel_1896\\2562127799.py:1: UserWarning: mhpglu_c has inconsistent formula with eQuilibrator identified metabolite. COBRA:{'C': 25, 'H': 36, 'N': 8, 'O': 12}, eQuilibrator:{'C': 30, 'N': 9, 'O': 12}. Defining as unknown compound\n",
      "  tmodel.get_compounds(search = True)\n",
      "C:\\Users\\tedns\\AppData\\Local\\Temp\\ipykernel_1896\\2562127799.py:1: UserWarning: macchitppdol_g has inconsistent formula with eQuilibrator identified metabolite. COBRA:{'C': 37, 'H': 64, 'N': 2, 'O': 22, 'P': 2}, eQuilibrator:{'C': 47, 'O': 22, 'P': 2, 'N': 2}. Defining as unknown compound\n",
      "  tmodel.get_compounds(search = True)\n",
      "C:\\Users\\tedns\\AppData\\Local\\Temp\\ipykernel_1896\\2562127799.py:1: UserWarning: hpglu_c has inconsistent formula with eQuilibrator identified metabolite. COBRA:{'C': 24, 'H': 34, 'N': 8, 'O': 12}, eQuilibrator:{'N': 9, 'C': 29, 'O': 12}. Defining as unknown compound\n",
      "  tmodel.get_compounds(search = True)\n"
     ]
    },
    {
     "name": "stdout",
     "output_type": "stream",
     "text": [
      "[███████████████████████████████████████.] 1221/1236 zym_int1_c                                                                                                                                                                                                                                                                                                  \r"
     ]
    },
    {
     "name": "stderr",
     "output_type": "stream",
     "text": [
      "C:\\Users\\tedns\\AppData\\Local\\Temp\\ipykernel_1896\\2562127799.py:1: UserWarning: trdox_c has inconsistent formula with eQuilibrator identified metabolite. COBRA:{'X': 1}, eQuilibrator:{'N': 4, 'C': 10, 'S': 2, 'O': 4}. Defining as unknown compound\n",
      "  tmodel.get_compounds(search = True)\n",
      "C:\\Users\\tedns\\AppData\\Local\\Temp\\ipykernel_1896\\2562127799.py:1: UserWarning: trdox_m has inconsistent formula with eQuilibrator identified metabolite. COBRA:{'X': 1}, eQuilibrator:{'N': 4, 'C': 10, 'S': 2, 'O': 4}. Defining as unknown compound\n",
      "  tmodel.get_compounds(search = True)\n",
      "C:\\Users\\tedns\\AppData\\Local\\Temp\\ipykernel_1896\\2562127799.py:1: UserWarning: trdox_n has inconsistent formula with eQuilibrator identified metabolite. COBRA:{'X': 1}, eQuilibrator:{'N': 4, 'C': 10, 'S': 2, 'O': 4}. Defining as unknown compound\n",
      "  tmodel.get_compounds(search = True)\n",
      "C:\\Users\\tedns\\AppData\\Local\\Temp\\ipykernel_1896\\2562127799.py:1: UserWarning: trdox_x has inconsistent formula with eQuilibrator identified metabolite. COBRA:{'X': 1}, eQuilibrator:{'N': 4, 'C': 10, 'S': 2, 'O': 4}. Defining as unknown compound\n",
      "  tmodel.get_compounds(search = True)\n",
      "C:\\Users\\tedns\\AppData\\Local\\Temp\\ipykernel_1896\\2562127799.py:1: UserWarning: trdrd_c has inconsistent formula with eQuilibrator identified metabolite. COBRA:{'X': 1, 'H': 2}, eQuilibrator:{'N': 4, 'C': 10, 'S': 2, 'O': 4}. Defining as unknown compound\n",
      "  tmodel.get_compounds(search = True)\n",
      "C:\\Users\\tedns\\AppData\\Local\\Temp\\ipykernel_1896\\2562127799.py:1: UserWarning: trdrd_m has inconsistent formula with eQuilibrator identified metabolite. COBRA:{'X': 1, 'H': 2}, eQuilibrator:{'N': 4, 'C': 10, 'S': 2, 'O': 4}. Defining as unknown compound\n",
      "  tmodel.get_compounds(search = True)\n",
      "C:\\Users\\tedns\\AppData\\Local\\Temp\\ipykernel_1896\\2562127799.py:1: UserWarning: trdrd_n has inconsistent formula with eQuilibrator identified metabolite. COBRA:{'X': 1, 'H': 2}, eQuilibrator:{'N': 4, 'C': 10, 'S': 2, 'O': 4}. Defining as unknown compound\n",
      "  tmodel.get_compounds(search = True)\n",
      "C:\\Users\\tedns\\AppData\\Local\\Temp\\ipykernel_1896\\2562127799.py:1: UserWarning: trdrd_x has inconsistent formula with eQuilibrator identified metabolite. COBRA:{'X': 1, 'H': 2}, eQuilibrator:{'N': 4, 'C': 10, 'S': 2, 'O': 4}. Defining as unknown compound\n",
      "  tmodel.get_compounds(search = True)\n"
     ]
    },
    {
     "name": "stdout",
     "output_type": "stream",
     "text": [
      "[████████████████████████████████████████] 1236/1236 charge_n                                                     \n",
      "\n"
     ]
    },
    {
     "data": {
      "text/plain": [
       "[]"
      ]
     },
     "execution_count": 6,
     "metadata": {},
     "output_type": "execute_result"
    }
   ],
   "source": [
    "tmodel.get_compounds(search = True)"
   ]
  },
  {
   "cell_type": "code",
   "execution_count": null,
   "metadata": {},
   "outputs": [],
   "source": [
    "#define biomass parameters \n",
    "#if the biomass formula is not automatically calcualted it's important to specifiy the hydrogen atoms in biomass to ensure correct proton balancing \n",
    "tmodel.metabolites.biomass_c.formula = 'H67'\n",
    "tmodel.metabolites.biomass_e.formula = 'H67'\n",
    "\n",
    "#manually define charge of cytochrome C so electron movement is correctly calcualted\n",
    "tmodel.metabolites.focytc_m.charge = 2\n",
    "tmodel.metabolites.focytc_m.redox= True #define as redox metabolite \n",
    "tmodel.metabolites.ficytc_m.charge = 3\n",
    "tmodel.metabolites.ficytc_m.redox = True"
   ]
  },
  {
   "cell_type": "markdown",
   "metadata": {},
   "source": [
    "### Step 3 - metabolites formation energies"
   ]
  },
  {
   "cell_type": "markdown",
   "metadata": {},
   "source": [
    "When specifying the value of `dfGprime` for the biomass metabolite, we should plug in the values in units of **J/gDW**. This differs from all the other reactions in the model, for which values of **kJ/mol** are used.\n",
    "\n",
    "The reason for this discrepancy has to do with the units of the fluxes.\n",
    "\n",
    "For a normal reaction:\n",
    "$g_{diss, rxn} = \\Delta_rG \\times v = (kJ/mol) \\times (mmol/gDW/h) = (10^3 J/mol) \\times (10^{-3} mol/gDW/h) = J/gDW/h$\n",
    "\n",
    "For the biomass reaction:\n",
    "$g_{diss, bio} = \\Delta_fG_{bio} \\times \\mu = (J/gDW) \\times (gDW/gDW/h) = J/gDW/h $\n",
    "\n",
    "Since thermoflux handles all reactions the same when determining the gibbs energy dissipation rate (multiplying $v$ by $\\Delta_rG$), we have to **pretend** that the biomass formation energy has units of kJ/mol. E.g:\n",
    "`tmodel.metabolites.biomass_c.dfGprime = Q_(701.767, \"kJ/mol\")` (where 701.767 is the formation energy of E.coli biomass at cytosolic pH, in units of J/gDW)"
   ]
  },
  {
   "cell_type": "code",
   "execution_count": 8,
   "metadata": {},
   "outputs": [],
   "source": [
    "#define biomass properties\n",
    "tmodel.reactions.BIOMASS_SC5_notrace.id='biomass_c' #update biomass reaction name for convenience\n",
    "\n",
    "tmodel.metabolites.biomass_c.dfG0 = Q_(-3.04,'kJ/mol')*1000 #From Battley 1991, *1000 for mmol flux units (actual units here are J/gDW)\n",
    "tmodel.metabolites.biomass_e.dfG0 = Q_(-3.04,'kJ/mol')*1000\n"
   ]
  },
  {
   "cell_type": "markdown",
   "metadata": {},
   "source": [
    "### Step 4 - Transporters"
   ]
  },
  {
   "cell_type": "code",
   "execution_count": 9,
   "metadata": {},
   "outputs": [
    {
     "name": "stdout",
     "output_type": "stream",
     "text": [
      "ASPOcm ASPOcm: asp__L_c + fad_m --> fadh2_m + h_c + iasp_c {}\n",
      "ATPS ATPS: atp_c + h2o_c --> adp_c + h_e + pi_c {}\n",
      "DHORD4i DHORD4i: dhor__S_c + q6_m --> orot_c + q6h2_m {}\n",
      "DOLPMTcer DOLPMTcer: dolp_c + gdpmann_c --> dolmanp_r + gdp_c {}\n",
      "DXHPScm DXHPScm: h2o_c + q6_m + spmd_c --> 13dampp_c + 4abutn_c + q6h2_m {}\n",
      "D_LACDcm D_LACDcm: 2.0 ficytc_m + lac__D_c --> 2.0 focytc_m + pyr_c {}\n",
      "FDNG FDNG: for_c + h_c + q6_m --> co2_c + q6h2_m {}\n",
      "FRDcm FRDcm: fadh2_m + fum_c --> fad_m + succ_c {}\n",
      "L_LACD2cm L_LACD2cm: 2.0 ficytc_m + lac__L_c --> 2.0 focytc_m + pyr_c {}\n",
      "NADH2_u6cm NADH2_u6cm: h_c + nadh_c + q6_m --> nad_c + q6h2_m {}\n"
     ]
    }
   ],
   "source": [
    "#idenfity transporters where the transported metabolite is empty\n",
    "#these could either be redox reactions or proton pumps just moving electrons (charge) and protons \n",
    "#or they could be transporters with chemcial transformation during the transport process\n",
    "for reaction in tmodel.reactions:\n",
    "    if len(reaction.compartments) > 1:\n",
    "        if thermo_flux.tools.drg_tools.calc_transported_mets(reaction) == {}:\n",
    "            print(reaction.id, reaction, thermo_flux.tools.drg_tools.calc_transported_mets(reaction))\n"
   ]
  },
  {
   "cell_type": "code",
   "execution_count": 10,
   "metadata": {},
   "outputs": [],
   "source": [
    "#DOLPMTcer involved chemcial transformation of dolp. We assume transport of dolmanp for thermodynamic calcualtion\n",
    "tmodel.reactions.DOLPMTcer.transported_mets = {tmodel.metabolites.dolmanp_r: -1}"
   ]
  },
  {
   "cell_type": "markdown",
   "metadata": {},
   "source": [
    "### Step 5 - charge and proton balancing"
   ]
  },
  {
   "cell_type": "code",
   "execution_count": 11,
   "metadata": {},
   "outputs": [
    {
     "name": "stderr",
     "output_type": "stream",
     "text": [
      "C:\\Users\\tedns\\AppData\\Local\\Temp\\ipykernel_1896\\1541778503.py:2: UserWarning: ATPS3v is not balanced and could not be automatically balanced, please check reaction stoichiometry or define reaction.transported_h\n",
      "  thermo_flux.tools.drg_tools.reaction_balance(rxn, balance_charge=True, balance_mg=False)\n"
     ]
    }
   ],
   "source": [
    "for rxn in tmodel.reactions:\n",
    "    thermo_flux.tools.drg_tools.reaction_balance(rxn, balance_charge=True, balance_mg=False)"
   ]
  },
  {
   "cell_type": "code",
   "execution_count": 12,
   "metadata": {},
   "outputs": [
    {
     "data": {
      "text/html": [
       "\n",
       "        <table>\n",
       "            <tr>\n",
       "                <td><strong>Reaction identifier</strong></td><td>ATPS3v</td>\n",
       "            </tr><tr>\n",
       "                <td><strong>Name</strong></td><td>ATP synthase vacuole</td>\n",
       "            </tr><tr>\n",
       "                <td><strong>Memory address</strong></td>\n",
       "                <td>0x16d19f17f40</td>\n",
       "            </tr><tr>\n",
       "                <td><strong>Stoichiometry</strong></td>\n",
       "                <td>\n",
       "                    <p style='text-align:right'>adp_v + 3.0 h_c + pi_v --> atp_v + h2o_v + 2.0 h_v</p>\n",
       "                    <p style='text-align:right'>ADP C10H12N5O10P2 + 3.0 H+ + Phosphate --> ATP C10H12N5O13P3 + H2O H2O + 2.0 H+</p>\n",
       "                </td>\n",
       "            </tr><tr>\n",
       "                <td><strong>GPR</strong></td><td>YBR127C and YDL185W and YEL027W and YEL051W and YGR020C and YHR026W and YHR039C_A and YKL080W and...</td>\n",
       "            </tr><tr>\n",
       "                <td><strong>Lower bound</strong></td><td>0.0</td>\n",
       "            </tr><tr>\n",
       "                <td><strong>Upper bound</strong></td><td>500</td>\n",
       "            </tr>\n",
       "        </table>\n",
       "        "
      ],
      "text/plain": [
       "<ThermoReaction ATPS3v at 0x16d19f17f40>"
      ]
     },
     "execution_count": 12,
     "metadata": {},
     "output_type": "execute_result"
    }
   ],
   "source": [
    "#ATPS3v is vacuolar ATP synthase transporting three protons per ATP\n",
    "tmodel.reactions.ATPS3v"
   ]
  },
  {
   "cell_type": "code",
   "execution_count": 13,
   "metadata": {},
   "outputs": [
    {
     "data": {
      "text/html": [
       "\n",
       "        <table>\n",
       "            <tr>\n",
       "                <td><strong>Reaction identifier</strong></td><td>ATPS3v</td>\n",
       "            </tr><tr>\n",
       "                <td><strong>Name</strong></td><td>ATP synthase vacuole</td>\n",
       "            </tr><tr>\n",
       "                <td><strong>Memory address</strong></td>\n",
       "                <td>0x16d19f17f40</td>\n",
       "            </tr><tr>\n",
       "                <td><strong>Stoichiometry</strong></td>\n",
       "                <td>\n",
       "                    <p style='text-align:right'>adp_v + 3.0 charge_c + 3.0 h_c + pi_v --> atp_v + 3.0 charge_v + h2o_v + 3.021815 h_v</p>\n",
       "                    <p style='text-align:right'>ADP C10H12N5O10P2 + 3.0 charge + 3.0 H+ + Phosphate --> ATP C10H12N5O13P3 + 3.0 charge + H2O H2O + 3.021815 H+</p>\n",
       "                </td>\n",
       "            </tr><tr>\n",
       "                <td><strong>GPR</strong></td><td>YBR127C and YDL185W and YEL027W and YEL051W and YGR020C and YHR026W and YHR039C_A and YKL080W and...</td>\n",
       "            </tr><tr>\n",
       "                <td><strong>Lower bound</strong></td><td>0.0</td>\n",
       "            </tr><tr>\n",
       "                <td><strong>Upper bound</strong></td><td>500</td>\n",
       "            </tr>\n",
       "        </table>\n",
       "        "
      ],
      "text/plain": [
       "<ThermoReaction ATPS3v at 0x16d19f17f40>"
      ]
     },
     "execution_count": 13,
     "metadata": {},
     "output_type": "execute_result"
    }
   ],
   "source": [
    "tmodel.reactions.ATPS3v.transported_h = {'v': 3.0, 'c': -3.0}\n",
    "thermo_flux.tools.drg_tools.reaction_balance(tmodel.reactions.ATPS3v, balance_charge=True, balance_mg=False)\n",
    "tmodel.reactions.ATPS3v"
   ]
  },
  {
   "cell_type": "markdown",
   "metadata": {},
   "source": [
    "### Step 6 - Calculation of Gibbs energy of reactions\n",
    "Add thermodynamic constraints and parameters"
   ]
  },
  {
   "cell_type": "code",
   "execution_count": 14,
   "metadata": {},
   "outputs": [],
   "source": [
    "#change max flux to 500 for all reactions\n",
    "\n",
    "tmodel.reactions.get_by_id(\"biomass_EX\").bounds = (0,500)\n",
    "tmodel.reactions.get_by_id(\"biomass_c\").bounds = (0,500)\n",
    "tmodel.reactions.get_by_id(\"biomass_ce\").bounds = (0,500)\n",
    "\n",
    "\n",
    "for rxn in tmodel.reactions:\n",
    "    rxn.lower_bound = -500 if rxn.lower_bound == -1000 else rxn.lower_bound\n",
    "    rxn.upper_bound = 500 if rxn.upper_bound == 1000 else rxn.upper_bound\n",
    "tmodel.objective = tmodel.reactions.biomass_EX"
   ]
  },
  {
   "cell_type": "code",
   "execution_count": 15,
   "metadata": {},
   "outputs": [
    {
     "name": "stdout",
     "output_type": "stream",
     "text": [
      "Identifying compounds...\n",
      "[████████████████████████████████████████] 1244/1244 Mg_n                                                                                                                                                                                                                                                                                                                                                                                                                                                                                                                                                                                                                                                                                                                                                \n",
      "\n",
      "Estimating dfG0'...\n",
      "ficytc_m 0 kilojoule / mole\n",
      "focytc_m 0 kilojoule / mole\n",
      "biomass_c 0 kilojoule / mole\n",
      "biomass_e 0 kilojoule / mole\n",
      "[████████████████████████████████████████] 1244/1244 Mg_n                                                                                                                                                                                                                                                                                                                                                                                                                                                                                                                                                                                                                                                                                                                                                                                                                                                                                                                                                                                                                                                                                                                                                                                                                                                                                                                                                                                                                                                                                                                                                                                                                                                                                                                                                                                                                                                                                                                                                                                                     \n",
      "\n",
      "Estimating drG0'...\n",
      "[████████████████████████████████████████] 1587/1587 charge_cn                                                                                                                                                                                                                                                                                                                                                                                                                                                                                                                                                                                                                                                                                                                                                                                                                                                                                                                                                                                                                                                                                                                                                                                                                                                            \n",
      "\n"
     ]
    }
   ],
   "source": [
    "tmodel.update_thermo_info(fit_unknown_dfG0=False,search=True)\n"
   ]
  },
  {
   "cell_type": "code",
   "execution_count": 16,
   "metadata": {},
   "outputs": [
    {
     "name": "stdout",
     "output_type": "stream",
     "text": [
      "h2o_c True\n",
      "h2o_e True\n",
      "h2o_g True\n",
      "h2o_m True\n",
      "h2o_n True\n",
      "h2o_r True\n",
      "h2o_v True\n",
      "h2o_x True\n",
      "h_c True\n",
      "h_e True\n",
      "h_g True\n",
      "h_m True\n",
      "h_n True\n",
      "h_r True\n",
      "h_v True\n",
      "h_x True\n",
      "oh1_c True\n",
      "oh1_m True\n",
      "biomass_c True\n",
      "biomass_e True\n",
      "charge_c True\n",
      "charge_e True\n",
      "charge_m True\n",
      "charge_x True\n",
      "charge_r True\n",
      "charge_v True\n",
      "charge_g True\n",
      "charge_n True\n"
     ]
    }
   ],
   "source": [
    "for met in tmodel.metabolites:\n",
    "    if met.ignore_conc:\n",
    "        print(met.id,met.ignore_conc)"
   ]
  },
  {
   "cell_type": "code",
   "execution_count": 17,
   "metadata": {},
   "outputs": [
    {
     "name": "stdout",
     "output_type": "stream",
     "text": [
      "EX_epistest_SC_e True\n",
      "EX_epist_e True\n",
      "EX_ergst_e True\n",
      "EX_ergstest_SC_e True\n",
      "EX_13BDglcn_e True\n",
      "EX_etha_e True\n",
      "EX_2hb_e True\n",
      "etoh_EX True\n",
      "EX_fe2_e True\n",
      "EX_fecost_e True\n",
      "EX_2mbac_e True\n",
      "EX_2mbald_e True\n",
      "EX_2mbtoh_e True\n",
      "EX_2mppal_e True\n",
      "EX_2phetoh_e True\n",
      "EX_fecostest_SC_e True\n",
      "EX_fmn_e True\n",
      "EX_3c3hmp_e True\n",
      "EX_3mbald_e True\n",
      "EX_for_e True\n",
      "EX_fru_e True\n",
      "EX_3mop_e True\n",
      "EX_4abut_e True\n",
      "EX_fum_e True\n",
      "EX_g3pc_e True\n",
      "EX_4abz_e True\n",
      "EX_5aop_e True\n",
      "EX_g3pi_e True\n",
      "EX_gal_e True\n",
      "EX_8aonn_e True\n",
      "EX_Nbfortyr_e True\n",
      "EX_abt_e True\n",
      "EX_ac_e True\n",
      "EX_acald_e True\n",
      "EX_aces_e True\n",
      "EX_galur_e True\n",
      "EX_gam6p_e True\n",
      "EX_gcald_e True\n",
      "EX_glc__D_e True\n",
      "EX_gln__L_e True\n",
      "EX_glu__L_e True\n",
      "EX_glx_e True\n",
      "EX_ade_e True\n",
      "EX_adn_e True\n",
      "EX_akg_e True\n",
      "EX_ala__L_e True\n",
      "EX_gly_e True\n",
      "EX_glyc_e True\n",
      "EX_gsn_e True\n",
      "EX_gthox_e True\n",
      "EX_gthrd_e True\n",
      "EX_alltn_e True\n",
      "EX_alltt_e True\n",
      "EX_amet_e True\n",
      "EX_arab__D_e True\n",
      "EX_arab__L_e True\n",
      "EX_gua_e True\n",
      "EX_arg__L_e True\n",
      "EX_h2o_e True\n",
      "EX_h_e True\n",
      "EX_hdca_e True\n",
      "EX_hdcea_e True\n",
      "EX_asn__L_e True\n",
      "EX_asp__L_e True\n",
      "EX_btd_RR_e True\n",
      "EX_btn_e True\n",
      "EX_hexc_e True\n",
      "EX_his__L_e True\n",
      "EX_hxan_e True\n",
      "EX_iamac_e True\n",
      "EX_iamoh_e True\n",
      "EX_ibutac_e True\n",
      "EX_chol_e True\n",
      "EX_cit_e True\n",
      "co2_EX True\n",
      "EX_crn_e True\n",
      "EX_csn_e True\n",
      "EX_cys__L_e True\n",
      "EX_cytd_e True\n",
      "EX_dad_2_e True\n",
      "EX_dann_e True\n",
      "EX_ibutoh_e True\n",
      "EX_id3acald_e True\n",
      "EX_ile__L_e True\n",
      "EX_ind3eth_e True\n",
      "EX_inost_e True\n",
      "EX_dca_e True\n",
      "EX_dcyt_e True\n",
      "EX_ddca_e True\n",
      "EX_ins_e True\n",
      "EX_k_e True\n",
      "EX_dgsn_e True\n",
      "EX_din_e True\n",
      "EX_lac__D_e True\n",
      "EX_lac__L_e True\n",
      "EX_lanost_e True\n",
      "EX_lanostest_SC_e True\n",
      "EX_dttp_e True\n",
      "EX_duri_e True\n",
      "EX_leu__L_e True\n",
      "EX_lys__L_e True\n",
      "EX_mal__L_e True\n",
      "EX_malt_e True\n",
      "EX_ribflv_e True\n",
      "EX_sbt__D_e True\n",
      "EX_man_e True\n",
      "EX_melib_e True\n",
      "EX_met__L_e True\n",
      "EX_mmet_e True\n",
      "EX_na1_e True\n",
      "EX_nac_e True\n",
      "EX_sbt__L_e True\n",
      "EX_ser__L_e True\n",
      "EX_so3_e True\n",
      "EX_so4_e True\n",
      "EX_spmd_e True\n",
      "EX_sprm_e True\n",
      "EX_srb__L_e True\n",
      "EX_succ_e True\n",
      "EX_nadp_e True\n",
      "EX_nh4_e True\n",
      "EX_nmn_e True\n",
      "EX_sucr_e True\n",
      "o2_EX True\n",
      "EX_taur_e True\n",
      "EX_thm_e True\n",
      "EX_oaa_e True\n",
      "EX_ocdca_e True\n",
      "EX_ocdcea_e True\n",
      "EX_ocdcya_e True\n",
      "EX_orn_e True\n",
      "EX_thmmp_e True\n",
      "EX_thmpp_e True\n",
      "EX_thr__L_e True\n",
      "EX_thym_e True\n",
      "EX_pacald_e True\n",
      "EX_pap_e True\n",
      "EX_thymd_e True\n",
      "EX_tre_e True\n",
      "EX_trp__L_e True\n",
      "EX_pc_SC_e True\n",
      "EX_pectin_e True\n",
      "EX_pepd_e True\n",
      "EX_phe__L_e True\n",
      "EX_pheac_e True\n",
      "EX_pi_e True\n",
      "EX_pnto__R_e True\n",
      "EX_ttdca_e True\n",
      "EX_tyr__L_e True\n",
      "EX_ura_e True\n",
      "EX_urea_e True\n",
      "EX_uri_e True\n",
      "EX_val__L_e True\n",
      "EX_xan_e True\n",
      "EX_xtsn_e True\n",
      "EX_pro__L_e True\n",
      "EX_ptd1ino_SC_e True\n",
      "EX_ptrc_e True\n",
      "EX_pyr_e True\n",
      "EX_xyl__D_e True\n",
      "EX_xylt_e True\n",
      "EX_rib__D_e True\n",
      "EX_zymst_e True\n",
      "EX_zymstest_SC_e True\n",
      "H2Ot True\n",
      "H2Oter True\n",
      "H2Otm True\n",
      "H2Otn True\n",
      "H2Otp True\n",
      "H2Otv True\n",
      "biomass_c True\n",
      "biomass_ce True\n",
      "biomass_EX True\n",
      "EX_charge True\n"
     ]
    }
   ],
   "source": [
    "for rxn in tmodel.reactions:\n",
    "    if rxn.ignore_snd:\n",
    "        print(rxn.id,rxn.ignore_snd)"
   ]
  },
  {
   "cell_type": "code",
   "execution_count": 18,
   "metadata": {},
   "outputs": [
    {
     "name": "stdout",
     "output_type": "stream",
     "text": [
      "charge_ce False\n",
      "charge_ce True\n",
      "charge_cm False\n",
      "charge_cm True\n",
      "charge_cx False\n",
      "charge_cx True\n",
      "charge_cr False\n",
      "charge_cr True\n",
      "charge_cv False\n",
      "charge_cv True\n",
      "charge_cg False\n",
      "charge_cg True\n",
      "charge_cn False\n",
      "charge_cn True\n"
     ]
    }
   ],
   "source": [
    "#ignore snd for charge ?\n",
    "for rxn in tmodel.reactions:\n",
    "    if 'charge' in rxn.id and 'EX' not in rxn.id:#charge reactions are constrained by 2nd law \n",
    "        print(rxn.id,rxn.ignore_snd)\n",
    "        rxn.ignore_snd=True\n",
    "        print(rxn.id,rxn.ignore_snd)\n",
    "        \n",
    "\n",
    "#tmodel.reactions.EX_charge.ignore_snd=True"
   ]
  },
  {
   "cell_type": "markdown",
   "metadata": {},
   "source": [
    "### Step 7 - Establishment of the thermodynamic-stoichiometric solution space\n",
    "Note : In our curation of the iMM904 model, due to the limited information available for the membrane potential of organelles, we chose to allow the free leakage of ions (charges) across the membrane. \n",
    "Allowing free movement of charges between compartments prevents over-constraining the model to potentially incorrect information.\n",
    "For more detailed analysis of charge transport or models where more information is available on membrane physiology then a constraint on the second law could be added for these charge transport reactions.  "
   ]
  },
  {
   "cell_type": "code",
   "execution_count": 25,
   "metadata": {},
   "outputs": [
    {
     "name": "stdout",
     "output_type": "stream",
     "text": [
      "Set parameter NonConvex to value 2\n",
      "Set parameter TimeLimit to value 10\n"
     ]
    }
   ],
   "source": [
    "# add the TFBA variables to the model\n",
    "tmodel.m = None #reset the gurobi model object in case you're re-running this cell \n",
    "tmodel.add_TFBA_variables(gdiss_constraint = False, sigmac_limit = (5000/tmodel.T.m), error_type = 'covariance',qnorm=1,alpha=0.95)\n",
    "tmodel.m.update()"
   ]
  },
  {
   "cell_type": "code",
   "execution_count": 26,
   "metadata": {},
   "outputs": [],
   "source": [
    "thermo_flux.solver.gurobi.model_start(tmodel,'fixed_dir_firstTFBA_ENS_8.sol', ignore_vars=['all'],fix_vars=['qm','fluxes'],fix='start')\n"
   ]
  },
  {
   "cell_type": "code",
   "execution_count": 27,
   "metadata": {},
   "outputs": [
    {
     "name": "stdout",
     "output_type": "stream",
     "text": [
      "Set parameter IntFeasTol to value 1e-06\n",
      "Set parameter TimeLimit to value 60\n",
      "Gurobi Optimizer version 11.0.0 build v11.0.0rc2 (win64 - Windows 11+.0 (22631.2))\n",
      "\n",
      "CPU model: Intel(R) Core(TM) i5-8250U CPU @ 1.60GHz, instruction set [SSE2|AVX|AVX2]\n",
      "Thread count: 4 physical cores, 8 logical processors, using up to 8 threads\n",
      "\n",
      "Optimize a model with 15685 rows, 12850 columns and 350518 nonzeros\n",
      "Model fingerprint: 0x1b1ad44f\n",
      "Model has 1 general constraint\n",
      "Variable types: 11263 continuous, 1587 integer (1587 binary)\n",
      "Coefficient statistics:\n",
      "  Matrix range     [6e-06, 1e+06]\n",
      "  Objective range  [1e+00, 1e+00]\n",
      "  Bounds range     [1e+00, 1e+06]\n",
      "  RHS range        [1e-05, 1e+06]\n",
      "\n",
      "Warning: Completing partial solution with 1587 unfixed non-continuous variables out of 1587\n",
      "User MIP start produced solution with objective 2.14592 (0.30s)\n",
      "Loaded user MIP start with objective 2.14592\n",
      "\n",
      "Presolve removed 8574 rows and 6443 columns\n",
      "Presolve time: 1.61s\n",
      "Presolved: 7111 rows, 6407 columns, 277793 nonzeros\n",
      "Variable types: 5169 continuous, 1238 integer (1238 binary)\n",
      "\n",
      "Root simplex log...\n",
      "\n",
      "Iteration    Objective       Primal Inf.    Dual Inf.      Time\n",
      "    6208    1.2993797e+00   3.446101e+05   0.000000e+00      5s\n",
      "   12785    2.1805119e+00   0.000000e+00   0.000000e+00      8s\n",
      "\n",
      "Root relaxation: objective 2.180512e+00, 12785 iterations, 5.59 seconds (7.85 work units)\n",
      "Total elapsed time = 31.75s (DegenMoves)\n",
      "\n",
      "    Nodes    |    Current Node    |     Objective Bounds      |     Work\n",
      " Expl Unexpl |  Obj  Depth IntInf | Incumbent    BestBd   Gap | It/Node Time\n",
      "\n",
      "     0     0    2.18051    0   43    2.14592    2.18051  1.61%     -   32s\n",
      "     0     0    2.18051    0   47    2.14592    2.18051  1.61%     -   32s\n",
      "     0     0    2.18051    0   46    2.14592    2.18051  1.61%     -   33s\n",
      "     0     0    2.18051    0   55    2.14592    2.18051  1.61%     -   36s\n",
      "     0     0    2.18051    0   49    2.14592    2.18051  1.61%     -   39s\n",
      "     0     0    2.18051    0   19    2.14592    2.18051  1.61%     -   44s\n",
      "     0     0    2.18051    0   18    2.14592    2.18051  1.61%     -   45s\n",
      "     0     0    2.18051    0   14    2.14592    2.18051  1.61%     -   48s\n",
      "     0     0    2.18051    0   14    2.14592    2.18051  1.61%     -   49s\n",
      "     0     0    2.18051    0   19    2.14592    2.18051  1.61%     -   52s\n",
      "     0     0    2.18043    0   20    2.14592    2.18043  1.61%     -   53s\n",
      "     0     0    2.18043    0   19    2.14592    2.18043  1.61%     -   53s\n",
      "     0     0    2.18043    0   14    2.14592    2.18043  1.61%     -   55s\n",
      "     0     0    2.18042    0   10    2.14592    2.18042  1.61%     -   56s\n",
      "     0     0    2.18039    0   11    2.14592    2.18039  1.61%     -   57s\n",
      "     0     0    2.18039    0    9    2.14592    2.18039  1.61%     -   58s\n",
      "     0     0    2.18039    0    9    2.14592    2.18039  1.61%     -   58s\n",
      "     0     0    2.18038    0    9    2.14592    2.18038  1.61%     -   58s\n",
      "\n",
      "Cutting planes:\n",
      "  Learned: 60\n",
      "  Cover: 3\n",
      "  Implied bound: 10\n",
      "  MIR: 13\n",
      "  Flow cover: 33\n",
      "  Relax-and-lift: 4\n",
      "\n",
      "Explored 1 nodes (49500 simplex iterations) in 60.25 seconds (53.86 work units)\n",
      "Thread count was 8 (of 8 available processors)\n",
      "\n",
      "Solution count 1: 2.14592 \n",
      "\n",
      "Time limit reached\n",
      "Best objective 2.145918254336e+00, best bound 2.180382715743e+00, gap 1.6060%\n"
     ]
    }
   ],
   "source": [
    "tmodel.m.params.NonConvex=2\n",
    "tmodel.m.params.IntFeasTol=1e-6\n",
    "tmodel.m.params.OptimalityTol=1e-6\n",
    "tmodel.m.params.TimeLimit=60*1\n",
    "tmodel.m.optimize()\n"
   ]
  },
  {
   "cell_type": "code",
   "execution_count": 28,
   "metadata": {},
   "outputs": [],
   "source": [
    "tmodel.m.write('fixed_dir_firstTFBA_ENS_9.mps')\n",
    "tmodel.m.write('fixed_dir_firstTFBA_ENS_9.sol')"
   ]
  },
  {
   "cell_type": "code",
   "execution_count": 45,
   "metadata": {},
   "outputs": [
    {
     "name": "stdout",
     "output_type": "stream",
     "text": [
      "drG error term\n",
      "Ex: 143.54648665524567\n",
      "Int: -143.54620102128138\n",
      "Diff: 0.00028563396429603927\n",
      "\n",
      "\n",
      "RTlnC concentration term\n",
      "Ex: -257.1979974465446\n",
      "Int: 257.19799744655256\n",
      "Diff: 7.958078640513122e-12\n",
      "\n",
      "\n",
      "drG0' term\n",
      "Ex: 28160.88767254069\n",
      "Int: -28160.88767254047\n",
      "Diff: 2.219167072325945e-10\n",
      "\n",
      "\n",
      "drG0 term non-transformed\n",
      "Ex: 27952.820538559\n",
      "Int: -27952.820538558746\n",
      "Diff: 2.546585164964199e-10\n",
      "\n",
      "\n",
      "drG0' transform term\n",
      "Ex: 0.0\n",
      "Int: 0.0\n",
      "Diff: 0.0\n",
      "\n",
      "\n",
      "drG0' total transport term\n",
      "Ex: 0.0\n",
      "Int: -0.0007508681337640155\n",
      "Diff: -0.0007508681337640155\n",
      "\n",
      "\n",
      "drG0' charge transport term\n",
      "Ex: 0.0\n",
      "Int: 7.466136594302952e-05\n",
      "Diff: 7.466136594302952e-05\n",
      "\n",
      "\n",
      "drG0'proton transport term\n",
      "Ex: 0.0\n",
      "Int: -0.0008255294998775753\n",
      "Diff: -0.0008255294998775753\n"
     ]
    }
   ],
   "source": [
    "thermo_flux.solver.gurobi.gdiss_model(tmodel)"
   ]
  },
  {
   "cell_type": "code",
   "execution_count": 29,
   "metadata": {},
   "outputs": [
    {
     "name": "stdout",
     "output_type": "stream",
     "text": [
      "Set parameter NonConvex to value 2\n",
      "Set parameter TimeLimit to value 10\n",
      "Set parameter TimeLimit to value 300\n",
      "Gurobi Optimizer version 11.0.0 build v11.0.0rc2 (win64 - Windows 11+.0 (22631.2))\n",
      "\n",
      "CPU model: Intel(R) Core(TM) i5-8250U CPU @ 1.60GHz, instruction set [SSE2|AVX|AVX2]\n",
      "Thread count: 4 physical cores, 8 logical processors, using up to 8 threads\n",
      "\n",
      "Optimize a model with 15686 rows, 13017 columns and 350685 nonzeros\n",
      "Model fingerprint: 0x659902df\n",
      "Model has 166 quadratic constraints\n",
      "Model has 1 general constraint\n",
      "Variable types: 11430 continuous, 1587 integer (1587 binary)\n",
      "Coefficient statistics:\n",
      "  Matrix range     [6e-06, 1e+06]\n",
      "  QMatrix range    [1e+00, 1e+00]\n",
      "  QLMatrix range   [1e+00, 1e+00]\n",
      "  Objective range  [1e+00, 1e+00]\n",
      "  Bounds range     [5e-05, 1e+06]\n",
      "  RHS range        [1e-05, 1e+06]\n",
      "\n",
      "Solving a multi-scenario model with 50 scenarios...\n",
      "\n",
      "Presolve removed 11125 rows and 8819 columns\n",
      "Presolve time: 0.28s\n",
      "Presolved: 4888 rows, 4248 columns, 15024 nonzeros\n",
      "Presolved model has 81 bilinear constraint(s)\n",
      "Presolved model has 50 scenario(s)\n",
      "\n",
      "Solving non-convex MIQCP\n",
      "\n",
      "Variable types: 3286 continuous, 962 integer (962 binary)\n",
      "\n",
      "Root relaxation: objective 1.202063e+00, 2935 iterations, 0.20 seconds (0.10 work units)\n",
      "\n",
      "    Nodes    |    Current Node    |     Objective Bounds      |     Work\n",
      " Expl Unexpl |  Obj  Depth IntInf | Incumbent    BestBd   Gap | It/Node Time\n",
      "\n",
      "     0     0    1.20206    0   50          -    1.20206      -     -    0s\n",
      "     0     0    1.20206    0   54          -    1.20206      -     -    1s\n",
      "     0     0    1.20206    0   54          -    1.20206      -     -    1s\n",
      "     0     0    1.19820    0   30          -    1.19820      -     -    1s\n",
      "     0     0    1.19820    0   30          -    1.19820      -     -    1s\n",
      "     0     0    1.19820    0   31          -    1.19820      -     -    1s\n",
      "     0     0    1.19820    0   32          -    1.19820      -     -    1s\n",
      "     0     0    1.19820    0   30          -    1.19820      -     -    1s\n",
      "     0     0    1.19820    0   30          -    1.19820      -     -    1s\n",
      "     0     0    1.19820    0   27          -    1.19820      -     -    2s\n",
      "     0     0    1.19820    0   28          -    1.19820      -     -    2s\n",
      "     0     0    1.19820    0   27          -    1.19820      -     -    2s\n",
      "     0     0    1.02710    0   27          -    1.02710      -     -    3s\n",
      "H    0     0                      -0.0000000    1.02710      -     -    3s\n",
      "     0     2    1.02710    0   27   -0.00000    1.02710      -     -    4s\n",
      "    38    45   -0.00000   11    8   -0.00000    1.02700      -  23.6    5s\n",
      "H  839   783                       0.0000000    1.02570      -  12.8   14s\n",
      "H  840   783                       0.0000000    1.02570      -  12.8   14s\n",
      "H  849   811                       0.1766679    1.02570   481%  12.9   14s\n",
      "H  867   811                       0.3850917    1.02570   166%  12.9   14s\n",
      "   871   853    0.51994   72   11    0.38509    1.02570   166%  13.0   16s\n",
      "H 1131  1054                       0.3914907    1.02570   162%  13.1   18s\n",
      "  1135   421    0.39149   31   35    0.39149    1.02570   162%  13.1   20s\n",
      "  1145   172    0.40662  149   42    0.39149    0.40886  4.44%  17.3   26s\n",
      "  1152    72    0.39149   66   40    0.39149    0.40886  4.44%  22.1   30s\n",
      "Scenario 3 has been solved (gap 0.0020%). 48/50 scenarios left.\n",
      "  1154    49   -0.00000   38   25    0.39149    0.40886  4.44%  27.2   38s\n",
      "  1322   169   -0.00000   62   19    0.39149    0.40885  4.43%  25.9   40s\n",
      "  2838  1705    0.25606  150   32    0.39149    0.40690  3.94%  19.7   45s\n",
      "H 3486  2294                       0.4003544    0.40690  1.64%  18.6   47s\n",
      "H 3731  2466                       0.4018819    0.40689  1.25%  18.6   48s\n",
      "H 3835  2560                       0.4018852    0.40687  1.24%  18.6   48s\n",
      "H 3954  2693                       0.4018853    0.40687  1.24%  18.4   49s\n",
      "  4185  3072    0.39547  100   40    0.40189    0.40687  1.24%  17.9   50s\n",
      "H 5709  4341                       0.4019121    0.40682  1.22%  16.5   54s\n",
      "  5795  4614    0.38552  108   54    0.40191    0.40682  1.22%  16.3   55s\n",
      "  7998  6722    0.03982  195   20    0.40191    0.40678  1.21%  15.4   60s\n",
      "  9842  5587    0.40261  122   12    0.40191    0.40675  1.20%  16.7   65s\n",
      "*10580  5888             290       0.4019171    0.40675  1.20%  16.4   66s\n",
      " 12029  7125    0.27138  116   38    0.40192    0.40666  1.18%  16.3   70s\n",
      "H12935  7608                       0.4022758    0.40657  1.07%  16.8   72s\n",
      " 14248  8911 infeasible  200         0.40228    0.40652  1.06%  16.8   76s\n",
      "H15435  9540                       0.4022806    0.40617  0.97%  17.1   80s\n",
      "H15452  9540                       0.4024703    0.40617  0.92%  17.1   80s\n",
      " 15506  9577    0.39308  118   29    0.40247    0.40617  0.92%  17.1   85s\n",
      "Scenario 1 has been solved. 47/50 scenarios left.\n",
      "Scenario 2 has been solved. 46/50 scenarios left.\n",
      "Scenario 5 has been solved. 45/50 scenarios left.\n",
      "Scenario 6 has been solved. 44/50 scenarios left.\n",
      " 15548  9579    0.39308  119   29    0.40247    0.40617  0.92%  17.1  120s\n",
      "Scenario 4 has been solved. 43/50 scenarios left.\n",
      "Scenario 7 has been solved (gap 0.0018%). 42/50 scenarios left.\n",
      "Scenario 8 has been solved (gap 0.0069%). 41/50 scenarios left.\n",
      "Scenario 9 has been solved. 40/50 scenarios left.\n",
      " 16277 10992    0.38948   98   35    0.40247    0.40607  0.89%  17.0  127s\n",
      "H17122 11379                       0.4024815    0.40567  0.79%  16.6  129s\n",
      " 17580 11996    0.37760  141   24    0.40248    0.40557  0.77%  16.7  132s\n",
      " 18324 12778    0.38603  109   43    0.40248    0.40442  0.48%  16.7  135s\n",
      " 20342 14646    0.35600  143   41    0.40248    0.40355  0.27%  16.3  141s\n",
      "H21366 14798                       0.4026757    0.40350  0.21%  16.3  143s\n",
      "H21371 14798                       0.4026888    0.40350  0.20%  16.4  143s\n",
      " 21587 15652    0.40350   80   36    0.40269    0.40350  0.20%  16.4  146s\n",
      " 23746 17593    0.35200  129   34    0.40269    0.40350  0.20%  16.3  152s\n",
      "*24067 17593             171       0.4027681    0.40350  0.18%  16.2  152s\n",
      "*24759 17593             165       0.4028130    0.40350  0.17%  16.1  152s\n",
      " 24904 18017    0.36228  164   43    0.40281    0.40350  0.17%  16.1  155s\n",
      " 26619 19080    0.39076  120   49    0.40281    0.40350  0.17%  16.2  160s\n",
      "H26693 19080                       0.4029112    0.40350  0.14%  16.2  160s\n",
      " 27890 20560     cutoff  105         0.40291    0.40345  0.13%  16.3  166s\n",
      " 28939 21573    0.39425  150   30    0.40291    0.40345  0.13%  16.0  170s\n",
      " 31013 23127    0.39472  195    4    0.40291    0.40345  0.13%  15.7  175s\n",
      " 32841 24688    0.40336   86   35    0.40291    0.40341  0.12%  15.6  182s\n",
      " 33978 25996    0.39189  185   23    0.40291    0.40341  0.12%  15.6  186s\n",
      " 35466 26987 infeasible  105         0.40291    0.40340  0.12%  15.3  190s\n",
      " 37764 28344    0.38396  168   25    0.40291    0.40340  0.12%  15.3  195s\n",
      " 39656 29782 infeasible   95         0.40291    0.40338  0.12%  15.5  202s\n",
      " 40905 30530    0.40155   87   52    0.40291    0.40338  0.12%  15.5  207s\n",
      " 41838 30924    0.38574  151   28    0.40291    0.40338  0.12%  15.4  210s\n",
      " 43650 32430    0.39840  118   40    0.40291    0.40337  0.11%  15.7  216s\n",
      " 44490 32417    0.40259  133   34    0.40291    0.40337  0.11%  15.7  224s\n",
      "Scenario 12 has been solved (gap 0.0079%). 39/50 scenarios left.\n",
      " 44498 33271    0.40259  134   33    0.40291    0.40336  0.11%  15.7  227s\n",
      " 45548 33460 infeasible  160         0.40291    0.40335  0.11%  15.7  230s\n",
      " 47272 33928     cutoff  113         0.40291    0.40333  0.10%  16.2  236s\n",
      " 48281 33922    0.40323  146   39    0.40291    0.40333  0.10%  16.5  241s\n",
      " 49414 34994    0.40329  139   32    0.40291    0.40332  0.10%  16.6  247s\n",
      "H49845 34994                       0.4029574    0.40332  0.09%  16.6  247s\n",
      " 50165 35613    0.39175  104   40    0.40296    0.40332  0.09%  16.6  250s\n",
      " 52053 36182    0.40326  105   36    0.40296    0.40328  0.08%  16.8  268s\n",
      "Scenario 11 has been solved (gap 0.0056%). 38/50 scenarios left.\n",
      " 52092 36781    0.40326  106   37    0.40296    0.40328  0.08%  16.8  272s\n",
      " 52989 37366     cutoff  113         0.40296    0.40327  0.08%  16.8  276s\n",
      " 53864 38129    0.39532  203   22    0.40296    0.40324  0.07%  16.8  284s\n",
      " 55063 38537    0.40320  150   41    0.40296    0.40323  0.07%  16.8  291s\n",
      " 56072 39425 infeasible  110         0.40296    0.40321  0.06%  16.9  298s\n",
      "\n",
      "Cutting planes:\n",
      "  Learned: 18\n",
      "  Flow cover: 1\n",
      "  RLT: 1\n",
      "\n",
      "Explored 57432 nodes (975891 simplex iterations) in 300.49 seconds (56.02 work units)\n",
      "Thread count was 8 (of 8 available processors)\n",
      "\n",
      "Solution count 10: 0.402957 0.402957 0.402957 ... 0.402911\n",
      "\n",
      "Time limit reached\n",
      "Best objective 4.029573999817e-01, best bound 4.032086474970e-01, gap 0.0624%\n"
     ]
    }
   ],
   "source": [
    "# add the TFBA variables to the model\n",
    "tmodel.m = None #reset the gurobi model object in case you're re-running this cell \n",
    "tmodel.add_TFBA_variables(gdiss_constraint = True, sigmac_limit = (3700/tmodel.T.m), error_type = 'covariance',qnorm=1,alpha=0.95)\n",
    "tmodel.m.update()\n",
    "tmodel.m.params.timelimit=60*5\n",
    "\n",
    "GUR_range = np.linspace(-0, -23, 50)\n",
    "\n",
    "thermo_flux.solver.gurobi.variable_scan(tmodel, GUR_range, var = tmodel.mvars['v'][0][tmodel.reactions.index(tmodel.reactions.get_by_id('EX_glc__D_e'))]) # here we get the index for the glucose uptake reaction and use this to index the v variable in the gurobi model\n",
    "thermo_flux.solver.gurobi.model_start(tmodel,'fixed_dir_firstTFBA_ENS_9.sol',ignore_vars=['all'],fix_vars=['qm'],fix='bound') #fix the drG error term to that from the initial TFBA to speed up optimisations\n",
    "\n",
    "tmodel.m.optimize()\n",
    "\n",
    "fluxes_gdiss = thermo_flux.solver.gurobi.multi_scenario_sol(tmodel,var = 'v') \n",
    "fluxes_gdiss= pd.DataFrame(fluxes_gdiss[0].T, index = [rxn.id for rxn in tmodel.reactions])"
   ]
  },
  {
   "cell_type": "code",
   "execution_count": 25,
   "metadata": {},
   "outputs": [
    {
     "data": {
      "image/png": "[encoded data removed]",
      "text/plain": [
       "<Figure size 640x480 with 1 Axes>"
      ]
     },
     "metadata": {},
     "output_type": "display_data"
    }
   ],
   "source": [
    "#plot biomass yield for stoichiometric model with balanced reactions and pH specified\n",
    "df_data2 = pd.read_csv('plotting_Yeast_ALL_experimental_data.csv',index_col=0)\n",
    "df_data2['regression'].fillna('Not fitted',inplace=True)\n",
    "df_data2['regression'].replace('yes', 'Fitted', inplace=True)\n",
    "df_data2.rename(columns={'regression':'Exp. data'}, inplace=True)\n",
    "#rename index in Condition\n",
    "df_data2.index.rename('Condition', inplace=True)\n",
    "\n",
    "GUR_plot_range=[-x for x in GUR_range]\n",
    "#plot biomass vs GUR in a scatter plot\n",
    "\n",
    "sns.scatterplot(x=GUR_plot_range,y=fluxes_gdiss.loc['biomass_EX'],color='b',label='TFBA')\n",
    "# sns.scatterplot(x=GUR_plot_range,y=tbiomass_flux,color='b',label='FBA and balanced')\n",
    "# sns.scatterplot(x=GUR_plot_range,y=biomass_flux,color='g',label='FBA')\n",
    "sns.scatterplot(x=df_data2['glc-D_EX'], y=df_data2['biomass_EX'], color=['red'],label='Experimental data')\n",
    "plt.xlabel('Glucose uptake rate (mmol/(gDW.h))',fontsize=14)\n",
    "plt.ylabel('Biomass production rate (mmol/(gDW.h))',fontsize=14)\n",
    "\n",
    "plt.savefig('Figures/growth_all_TFBA_gdissconstraint.png',dpi=300)\n",
    "\n"
   ]
  }
 ],
 "metadata": {
  "kernelspec": {
   "display_name": "thermoflux",
   "language": "python",
   "name": "python3"
  },
  "language_info": {
   "codemirror_mode": {
    "name": "ipython",
    "version": 3
   },
   "file_extension": ".py",
   "mimetype": "text/x-python",
   "name": "python",
   "nbconvert_exporter": "python",
   "pygments_lexer": "ipython3",
   "version": "3.10.13"
  }
 },
 "nbformat": 4,
 "nbformat_minor": 2
}
