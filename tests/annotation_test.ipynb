{
 "cells": [
  {
   "cell_type": "code",
   "execution_count": 54,
   "id": "f35c4d45",
   "metadata": {},
   "outputs": [
    {
     "data": {
      "text/plain": [
       "<module 'thermo_flux.core.model' from 'C:\\\\Users\\\\tedns\\\\Google Drive\\\\Thermodynamic plants\\\\thermo_flux\\\\thermo_flux\\\\core\\\\model.py'>"
      ]
     },
     "execution_count": 54,
     "metadata": {},
     "output_type": "execute_result"
    }
   ],
   "source": [
    "import importlib\n",
    "\n",
    "import thermo_flux\n",
    "\n",
    "import numpy as np\n",
    "import pandas as pd\n",
    "\n",
    "from thermo_flux.utils.annotation import get_suitable_ids\n",
    "from equilibrator_api import ComponentContribution, Q_\n",
    "from thermo_flux.core.model import ThermoModel\n",
    "importlib.reload(thermo_flux.core.model)\n"
   ]
  },
  {
   "cell_type": "code",
   "execution_count": 55,
   "id": "1bab045b",
   "metadata": {},
   "outputs": [],
   "source": [
    "importlib.reload(thermo_flux.utils.annotation)\n",
    "from thermo_flux.utils.annotation import get_suitable_ids\n"
   ]
  },
  {
   "cell_type": "code",
   "execution_count": 56,
   "id": "5932ac74",
   "metadata": {},
   "outputs": [],
   "source": [
    "importlib.reload(thermo_flux)\n",
    "importlib.reload(thermo_flux.core.model)\n",
    "importlib.reload(thermo_flux.core.metabolite)\n",
    "\n",
    "from thermo_flux.core.model import ThermoModel\n",
    "from thermo_flux.core.metabolite import ThermoMetabolite\n",
    "\n"
   ]
  },
  {
   "cell_type": "code",
   "execution_count": 57,
   "id": "8ca61314",
   "metadata": {},
   "outputs": [],
   "source": [
    "#cc = ComponentContribution()"
   ]
  },
  {
   "cell_type": "code",
   "execution_count": 58,
   "id": "fb2b458b",
   "metadata": {},
   "outputs": [
    {
     "name": "stderr",
     "output_type": "stream",
     "text": [
      "ERROR:cobra.io.sbml:No objective coefficients in model. Unclear what should be optimized\n"
     ]
    }
   ],
   "source": [
    "import cobra\n",
    "model = cobra.io.read_sbml_model('ecoli_test.xml')\n",
    "tmodel = ThermoModel(model)\n"
   ]
  },
  {
   "cell_type": "code",
   "execution_count": 59,
   "id": "4630539b",
   "metadata": {},
   "outputs": [],
   "source": [
    "for met in tmodel.metabolites:\n",
    "    cpd, annotation, formula, inchi = get_suitable_ids(met,cc)\n",
    "    met.annotation.update(annotation)\n",
    "    met.compound = cpd"
   ]
  },
  {
   "cell_type": "code",
   "execution_count": 60,
   "id": "f0b8c76c",
   "metadata": {},
   "outputs": [
    {
     "data": {
      "text/plain": [
       "'metanetx.chemical:MNXM42'"
      ]
     },
     "execution_count": 60,
     "metadata": {},
     "output_type": "execute_result"
    }
   ],
   "source": [
    "tmodel.metabolites[0].accession = None\n",
    "tmodel.metabolites[0].accession"
   ]
  },
  {
   "cell_type": "code",
   "execution_count": 61,
   "id": "1a4fc632",
   "metadata": {},
   "outputs": [
    {
     "data": {
      "text/plain": [
       "'charge'"
      ]
     },
     "execution_count": 61,
     "metadata": {},
     "output_type": "execute_result"
    }
   ],
   "source": [
    "#tmodel.metabolites.charge_c.accession = 'test'\n",
    "tmodel.metabolites.charge_e.accession"
   ]
  },
  {
   "cell_type": "code",
   "execution_count": 62,
   "id": "c0c85a1f",
   "metadata": {},
   "outputs": [
    {
     "name": "stdout",
     "output_type": "stream",
     "text": [
      "proteins_c\n",
      "lipids_c\n",
      "polysacch_c\n",
      "dna_c\n",
      "rna_c\n",
      "storage_c\n",
      "charge_e\n",
      "charge_c\n",
      "charge_m\n"
     ]
    }
   ],
   "source": [
    "for met in tmodel.metabolites:\n",
    "    if met.compound is None:\n",
    "        print(met.id)"
   ]
  },
  {
   "cell_type": "code",
   "execution_count": 63,
   "id": "e300e4e9",
   "metadata": {},
   "outputs": [
    {
     "name": "stdout",
     "output_type": "stream",
     "text": [
      "None\n",
      "None\n",
      "None\n",
      "None\n"
     ]
    }
   ],
   "source": [
    "#tmodel.metabolites.charge_c.dfG_SE = 100\n",
    "print(tmodel.metabolites.charge_c.dfG_SE)\n",
    "print(tmodel.metabolites.charge_e.dfG_SE)\n",
    "\n",
    "#tmodel.metabolites.charge_e.dfG_SE = 100\n",
    "print(tmodel.metabolites.charge_c.dfG_SE)\n",
    "print(tmodel.metabolites.charge_e.dfG_SE)"
   ]
  },
  {
   "cell_type": "code",
   "execution_count": 64,
   "id": "618a4d44",
   "metadata": {},
   "outputs": [
    {
     "name": "stdout",
     "output_type": "stream",
     "text": [
      "True\n"
     ]
    }
   ],
   "source": [
    "tmodel.metabolites.focytc_c.redox = True\n",
    "print(tmodel.metabolites.focytc_c.redox )\n",
    "tmodel.metabolites.focytc_c.dfG0prime = 12.25 "
   ]
  },
  {
   "cell_type": "code",
   "execution_count": 79,
   "id": "a7c6742b",
   "metadata": {},
   "outputs": [
    {
     "data": {
      "text/plain": [
       "1000"
      ]
     },
     "execution_count": 79,
     "metadata": {},
     "output_type": "execute_result"
    }
   ],
   "source": [
    "tmodel.metabolites.biomass_c.biomass = True\n",
    "tmodel.metabolites.biomass_e.biomass = True\n",
    "tmodel.metabolites.biomass_c.dfG0prime = 1000\n",
    "tmodel.metabolites.biomass_c.dfG0prime"
   ]
  },
  {
   "cell_type": "code",
   "execution_count": 66,
   "id": "8bb7f80f",
   "metadata": {},
   "outputs": [
    {
     "data": {
      "text/plain": [
       "<module 'thermo_flux.drg_tools.drg_tools' from 'C:\\\\Users\\\\tedns\\\\Google Drive\\\\Thermodynamic plants\\\\thermo_flux\\\\thermo_flux\\\\drg_tools\\\\drg_tools.py'>"
      ]
     },
     "execution_count": 66,
     "metadata": {},
     "output_type": "execute_result"
    }
   ],
   "source": [
    "from thermo_flux.drg_tools import drg_tools\n",
    "importlib.reload(drg_tools)\n"
   ]
  },
  {
   "cell_type": "code",
   "execution_count": 67,
   "id": "0c99068a",
   "metadata": {},
   "outputs": [
    {
     "data": {
      "text/plain": [
       "Compound(id=44, inchi_key=CKLJMWTZIZZHCS-REOHCLBHSA-M)"
      ]
     },
     "execution_count": 67,
     "metadata": {},
     "output_type": "execute_result"
    }
   ],
   "source": [
    "drg_tools.get_compound(tmodel.metabolites[0].compound, cc)"
   ]
  },
  {
   "cell_type": "code",
   "execution_count": 68,
   "id": "1802ed60",
   "metadata": {},
   "outputs": [
    {
     "name": "stdout",
     "output_type": "stream",
     "text": [
      "<class 'thermo_flux.core.metabolite.ThermoMetabolite'>\n",
      "<class 'type'>\n"
     ]
    }
   ],
   "source": [
    "print(type(tmodel.metabolites[0]))\n",
    "print(type(ThermoMetabolite))\n"
   ]
  },
  {
   "cell_type": "code",
   "execution_count": 69,
   "id": "5a2578f5",
   "metadata": {},
   "outputs": [],
   "source": [
    "from equilibrator_api import Reaction"
   ]
  },
  {
   "cell_type": "code",
   "execution_count": 70,
   "id": "782a843a",
   "metadata": {},
   "outputs": [],
   "source": [
    "#tmodel.metabolites.charge_c.dfG_SE =100"
   ]
  },
  {
   "cell_type": "code",
   "execution_count": 80,
   "id": "86c16ada",
   "metadata": {},
   "outputs": [],
   "source": [
    "from equilibrator_api import Reaction\n",
    "\n",
    "def calc_dfG0(tmodel, cc):\n",
    "    default_dfg0_std = Q_(10000,\"kJ/mol\")\n",
    "\n",
    "    known_met_idx = []\n",
    "    unknown_met_idx = []\n",
    "    unknown_mets = []\n",
    "\n",
    "    dfG0_mean = np.zeros((len(tmodel.metabolites), 1))\n",
    "    dfG0_cov_sqrt = np.zeros((len(tmodel.metabolites), len(tmodel.metabolites)))\n",
    "\n",
    "\n",
    "    known_met_list = []\n",
    "\n",
    "    for i, met in enumerate(tmodel.metabolites):\n",
    "        if met.compound is None:\n",
    "            unknown_met_idx.append(i)\n",
    "            unknown_mets.append(met)\n",
    "        else:\n",
    "            known_met_idx.append(i)\n",
    "            known_met_list.append(Reaction({met.compound:1}))\n",
    "\n",
    "    dfG0_mean_1, dfG0_cov_sqrt_1 = cc.standard_dg_multi(known_met_list,\"fullrank\")\n",
    "\n",
    "    dfG0_mean[known_met_idx,0] = dfG0_mean_1.m\n",
    "    dfG0_cov_sqrt[known_met_idx, 0:dfG0_cov_sqrt_1.shape[1]] = dfG0_cov_sqrt_1.m\n",
    "\n",
    "\n",
    "    #set unknown metabolites to have a reasonable formation energy\n",
    "    #is the mean of other formation energies reasonable? \n",
    "    #would 0 be a better estimate?\n",
    "    #is this very case specific i.e generic proteins etc. are note normal metabolites \n",
    "    default_dfg0_mean = np.mean(dfG0_mean[known_met_idx]) #this value is not needed becuase of the fitting later?\n",
    "    dfG0_mean[unknown_met_idx] = 0 #set unknown metabolites to have formation energy of 0 unless specified in tmet\n",
    "    \n",
    "    \n",
    "    \n",
    "    #for emtabolites which have an identifier in the equilibrator cache but we want to ignore it and change the uncertainty\n",
    "    #only for redox carrier and biomass can we set our own formation energy \n",
    "    #aslo for photons \n",
    "    #can only do this for metabolites that are not correlated with any others (apart from themselves)\n",
    "    \n",
    "    special_mets_idx = []    \n",
    "    for i, met in enumerate(tmodel.metabolites):\n",
    "        if any([met.redox, met.biomass]):\n",
    "            if len(np.nonzero(dfG0_cov_sqrt[i])[0]) <= 1:    #only metabolites with a single entry in dfG0_cov_sqrt\n",
    "                if met.dfG0prime is None:\n",
    "                    dfG_mean = 0\n",
    "                else:\n",
    "                    dfG_mean = met.dfG0prime #this shold be a feature of a reaction not a metabolite - stoichometry need accounting for?\n",
    "                special_mets_idx.append(i)\n",
    "                dfG0_mean[i] = dfG_mean\n",
    "                if met.dfG_SE is None:\n",
    "                    dfG_SE = 0\n",
    "                else:\n",
    "                    dfG_SE = met.dfG_SE\n",
    "                unknown_basis_idx = (np.abs(dfG0_cov_sqrt[i])).argmax()\n",
    "                dfG0_cov_sqrt[i,unknown_basis_idx] = dfG_SE\n",
    "                \n",
    "                \n",
    "    unknown_basis_idx = [i for i in range(dfG0_cov_sqrt.shape[1]) if np.any(np.abs(dfG0_cov_sqrt[:, i]) >= default_dfg0_std.m)]\n",
    "    \n",
    "    #enforce correlation of multiple instances of unknown metabolites in different compartments \n",
    "    dfG_basis_size = dfG0_cov_sqrt_1.shape[1]\n",
    "    unknown_met_basis_id = {}\n",
    "    \n",
    "\n",
    "    for met_idx in unknown_met_idx:\n",
    "        if met_idx not in special_mets_idx:\n",
    "            met = tmodel.metabolites[met_idx]\n",
    "            if met.accession in unknown_met_basis_id:     #if the metabolite already has column in the unknown basis\n",
    "                if met.dfG_SE is None:\n",
    "                    dfG_SE = default_dfg0_std.m\n",
    "                else:\n",
    "                    dfG_SE = met.dfG_SE\n",
    "\n",
    "                dfG0_cov_sqrt[met_idx, unknown_met_basis_id[met.accession]] = dfG_SE\n",
    "\n",
    "            else:#otherwise add a new basis for the unknown metabolite \n",
    "\n",
    "                unknown_met_basis_id[met.accession] = dfG_basis_size\n",
    "                if met.dfG_SE is None:\n",
    "                    dfG_SE = default_dfg0_std.m\n",
    "                else:\n",
    "                    dfG_SE = met.dfG_SE\n",
    "\n",
    "\n",
    "                dfG0_cov_sqrt[met_idx, dfG_basis_size] = dfG_SE\n",
    "                dfG_basis_size += 1\n",
    "\n",
    "\n",
    "            \n",
    "    #return unknown basis for fitting later\n",
    "    unknown_basis_idx += range(dfG0_cov_sqrt_1.shape[1], dfG_basis_size)\n",
    "    unknowns_basis = dfG0_cov_sqrt[:, unknown_basis_idx]\n",
    "\n",
    "\n",
    "    return dfG0_mean, dfG0_cov_sqrt, unknowns_basis"
   ]
  },
  {
   "cell_type": "code",
   "execution_count": 81,
   "id": "2c03baaa",
   "metadata": {},
   "outputs": [],
   "source": [
    "dfG0_mean, dfG0_cov_sqrt, unknowns_basis = calc_dfG0(tmodel, cc)"
   ]
  },
  {
   "cell_type": "code",
   "execution_count": 82,
   "id": "5d2cd524",
   "metadata": {},
   "outputs": [],
   "source": [
    "import numpy.linalg as la\n",
    "\n",
    "S = cobra.util.array.create_stoichiometric_matrix(tmodel)\n",
    "\n",
    "X = S.T @ unknowns_basis\n",
    "y = -S.T @ dfG0_mean\n",
    "beta = la.lstsq(X, y, rcond=None)[0]\n",
    "dfG0_mean_2 = dfG0_mean + unknowns_basis @ beta\n"
   ]
  },
  {
   "cell_type": "code",
   "execution_count": 83,
   "id": "4f608091",
   "metadata": {},
   "outputs": [
    {
     "data": {
      "text/plain": [
       "array([381.78019665])"
      ]
     },
     "execution_count": 83,
     "metadata": {},
     "output_type": "execute_result"
    }
   ],
   "source": [
    "(unknowns_basis @ beta)[198]"
   ]
  },
  {
   "cell_type": "code",
   "execution_count": 84,
   "id": "bef78c89",
   "metadata": {},
   "outputs": [
    {
     "data": {
      "text/plain": [
       "227"
      ]
     },
     "execution_count": 84,
     "metadata": {},
     "output_type": "execute_result"
    }
   ],
   "source": [
    "model.metabolites.index(model.metabolites.biomass_c)"
   ]
  },
  {
   "cell_type": "code",
   "execution_count": 85,
   "id": "03c2e726",
   "metadata": {},
   "outputs": [
    {
     "data": {
      "text/html": [
       "<div>\n",
       "<style scoped>\n",
       "    .dataframe tbody tr th:only-of-type {\n",
       "        vertical-align: middle;\n",
       "    }\n",
       "\n",
       "    .dataframe tbody tr th {\n",
       "        vertical-align: top;\n",
       "    }\n",
       "\n",
       "    .dataframe thead th {\n",
       "        text-align: right;\n",
       "    }\n",
       "</style>\n",
       "<table border=\"1\" class=\"dataframe\">\n",
       "  <thead>\n",
       "    <tr style=\"text-align: right;\">\n",
       "      <th></th>\n",
       "      <th>0</th>\n",
       "      <th>1</th>\n",
       "      <th>2</th>\n",
       "      <th>3</th>\n",
       "      <th>4</th>\n",
       "      <th>5</th>\n",
       "      <th>6</th>\n",
       "      <th>7</th>\n",
       "      <th>8</th>\n",
       "      <th>9</th>\n",
       "      <th>...</th>\n",
       "      <th>219</th>\n",
       "      <th>220</th>\n",
       "      <th>221</th>\n",
       "      <th>222</th>\n",
       "      <th>223</th>\n",
       "      <th>224</th>\n",
       "      <th>225</th>\n",
       "      <th>226</th>\n",
       "      <th>227</th>\n",
       "      <th>228</th>\n",
       "    </tr>\n",
       "  </thead>\n",
       "  <tbody>\n",
       "    <tr>\n",
       "      <th>ficytc_c</th>\n",
       "      <td>0.0</td>\n",
       "      <td>0.0</td>\n",
       "      <td>-100000.0</td>\n",
       "      <td>0.0</td>\n",
       "      <td>0.0</td>\n",
       "      <td>0.0</td>\n",
       "      <td>0.0</td>\n",
       "      <td>0.0</td>\n",
       "      <td>0.0</td>\n",
       "      <td>0.0</td>\n",
       "      <td>...</td>\n",
       "      <td>0.0</td>\n",
       "      <td>0.0</td>\n",
       "      <td>0.0</td>\n",
       "      <td>0.0</td>\n",
       "      <td>0.0</td>\n",
       "      <td>0.0</td>\n",
       "      <td>0.0</td>\n",
       "      <td>0.0</td>\n",
       "      <td>0.0</td>\n",
       "      <td>0.0</td>\n",
       "    </tr>\n",
       "    <tr>\n",
       "      <th>focytc_c</th>\n",
       "      <td>0.0</td>\n",
       "      <td>0.0</td>\n",
       "      <td>0.0</td>\n",
       "      <td>0.0</td>\n",
       "      <td>0.0</td>\n",
       "      <td>0.0</td>\n",
       "      <td>0.0</td>\n",
       "      <td>0.0</td>\n",
       "      <td>0.0</td>\n",
       "      <td>0.0</td>\n",
       "      <td>...</td>\n",
       "      <td>0.0</td>\n",
       "      <td>0.0</td>\n",
       "      <td>0.0</td>\n",
       "      <td>0.0</td>\n",
       "      <td>0.0</td>\n",
       "      <td>0.0</td>\n",
       "      <td>0.0</td>\n",
       "      <td>0.0</td>\n",
       "      <td>0.0</td>\n",
       "      <td>0.0</td>\n",
       "    </tr>\n",
       "  </tbody>\n",
       "</table>\n",
       "<p>2 rows × 229 columns</p>\n",
       "</div>"
      ],
      "text/plain": [
       "          0    1         2    3    4    5    6    7    8    9    ...  219  \\\n",
       "ficytc_c  0.0  0.0 -100000.0  0.0  0.0  0.0  0.0  0.0  0.0  0.0  ...  0.0   \n",
       "focytc_c  0.0  0.0       0.0  0.0  0.0  0.0  0.0  0.0  0.0  0.0  ...  0.0   \n",
       "\n",
       "          220  221  222  223  224  225  226  227  228  \n",
       "ficytc_c  0.0  0.0  0.0  0.0  0.0  0.0  0.0  0.0  0.0  \n",
       "focytc_c  0.0  0.0  0.0  0.0  0.0  0.0  0.0  0.0  0.0  \n",
       "\n",
       "[2 rows x 229 columns]"
      ]
     },
     "execution_count": 85,
     "metadata": {},
     "output_type": "execute_result"
    }
   ],
   "source": [
    "df = pd.DataFrame(dfG0_cov_sqrt, index=[met.id for met in model.metabolites])\n",
    "df.loc[['ficytc_c','focytc_c']]"
   ]
  },
  {
   "cell_type": "code",
   "execution_count": 86,
   "id": "dd15b931",
   "metadata": {},
   "outputs": [
    {
     "data": {
      "text/plain": [
       "asp-L_c      0.0\n",
       "hcit_m       0.0\n",
       "L2aadp_c     0.0\n",
       "b124tc_m     0.0\n",
       "hicit_m      0.0\n",
       "            ... \n",
       "hcys-L_c     0.0\n",
       "nad_c        0.0\n",
       "nadh_c       0.0\n",
       "for_c        0.0\n",
       "biomass_e    0.0\n",
       "Name: 227, Length: 229, dtype: float64"
      ]
     },
     "execution_count": 86,
     "metadata": {},
     "output_type": "execute_result"
    }
   ],
   "source": [
    "df[227].sort_values(key=abs,ascending=False)"
   ]
  },
  {
   "cell_type": "code",
   "execution_count": 88,
   "id": "62a4a98a",
   "metadata": {},
   "outputs": [
    {
     "data": {
      "text/plain": [
       "array([12.25])"
      ]
     },
     "execution_count": 88,
     "metadata": {},
     "output_type": "execute_result"
    }
   ],
   "source": [
    "dfG0_mean[223]"
   ]
  },
  {
   "cell_type": "code",
   "execution_count": null,
   "id": "afef2a3d",
   "metadata": {},
   "outputs": [],
   "source": [
    "dfG0_cov_sqrt[known_met_idx, 0:dfG0_cov_sqrt_1.shape[0]]\n"
   ]
  },
  {
   "cell_type": "code",
   "execution_count": null,
   "id": "4dc833e5",
   "metadata": {},
   "outputs": [],
   "source": [
    "dfG0_cov_sqrt.shape"
   ]
  },
  {
   "cell_type": "code",
   "execution_count": null,
   "id": "7394a87b",
   "metadata": {},
   "outputs": [],
   "source": [
    "dfG0_cov_sqrt.shape[1]"
   ]
  },
  {
   "cell_type": "code",
   "execution_count": null,
   "id": "e15278b0",
   "metadata": {},
   "outputs": [],
   "source": [
    "dfG0_cov_sqrt.m[:,1].argmin()"
   ]
  },
  {
   "cell_type": "code",
   "execution_count": null,
   "id": "48c1f495",
   "metadata": {},
   "outputs": [],
   "source": []
  },
  {
   "cell_type": "code",
   "execution_count": null,
   "id": "a52a32d4",
   "metadata": {},
   "outputs": [],
   "source": [
    "model.metabolites[123]"
   ]
  },
  {
   "cell_type": "code",
   "execution_count": null,
   "id": "60249685",
   "metadata": {},
   "outputs": [],
   "source": [
    "unreliable_basis_ids"
   ]
  },
  {
   "cell_type": "code",
   "execution_count": null,
   "id": "edc9577d",
   "metadata": {},
   "outputs": [],
   "source": [
    "tmodel.metabolites[1].annotation"
   ]
  },
  {
   "cell_type": "code",
   "execution_count": null,
   "id": "9c0d08cc",
   "metadata": {},
   "outputs": [],
   "source": [
    "tmodel.metabolites.polysacch_c.compound.get_accession()"
   ]
  },
  {
   "cell_type": "code",
   "execution_count": null,
   "id": "76490f6b",
   "metadata": {},
   "outputs": [],
   "source": []
  },
  {
   "cell_type": "code",
   "execution_count": null,
   "id": "0f5401c6",
   "metadata": {},
   "outputs": [],
   "source": [
    "dfG_mean, dfG_cov = cc.standard_dg_multi(met_list,\"fullrank\")"
   ]
  },
  {
   "cell_type": "code",
   "execution_count": null,
   "id": "9b844692",
   "metadata": {},
   "outputs": [],
   "source": [
    "len(dfG_mean)"
   ]
  },
  {
   "cell_type": "code",
   "execution_count": null,
   "id": "a5f08be6",
   "metadata": {},
   "outputs": [],
   "source": [
    "dfG_cov.shape"
   ]
  },
  {
   "cell_type": "code",
   "execution_count": null,
   "id": "369b3e45",
   "metadata": {},
   "outputs": [],
   "source": [
    "unreliable_basis_ids = [i\n",
    "                for i in range(dfG_cov.shape[1])\n",
    "                if np.any(np.abs(dfG_cov[:, i]) >= Q_(10000,\"kJ/mol\"))\n",
    "            ]\n"
   ]
  },
  {
   "cell_type": "code",
   "execution_count": null,
   "id": "23970385",
   "metadata": {},
   "outputs": [],
   "source": [
    "unreliable_basis_ids"
   ]
  },
  {
   "cell_type": "code",
   "execution_count": null,
   "id": "f5329469",
   "metadata": {
    "scrolled": true
   },
   "outputs": [],
   "source": [
    "dfG_cov.m[:,11]"
   ]
  },
  {
   "cell_type": "code",
   "execution_count": null,
   "id": "cacb7922",
   "metadata": {},
   "outputs": [],
   "source": [
    "default_dfg0_mean = np.mean(dfG_mean)\n"
   ]
  },
  {
   "cell_type": "code",
   "execution_count": null,
   "id": "adb48e68",
   "metadata": {},
   "outputs": [],
   "source": [
    "default_dfg0_mean"
   ]
  },
  {
   "cell_type": "code",
   "execution_count": null,
   "id": "25f0fd8d",
   "metadata": {},
   "outputs": [],
   "source": [
    "dfG_mean"
   ]
  },
  {
   "cell_type": "code",
   "execution_count": null,
   "id": "f3637f20",
   "metadata": {},
   "outputs": [],
   "source": [
    "import pandas as pd"
   ]
  },
  {
   "cell_type": "code",
   "execution_count": null,
   "id": "ce3b9278",
   "metadata": {},
   "outputs": [],
   "source": [
    "tmodel.metabolites.charge_m.compound.get_common_name()"
   ]
  },
  {
   "cell_type": "code",
   "execution_count": null,
   "id": "98d2ec4e",
   "metadata": {},
   "outputs": [],
   "source": [
    "tmodel.metabolites.charge_c.compound.get_common_name()"
   ]
  },
  {
   "cell_type": "code",
   "execution_count": null,
   "id": "1216812e",
   "metadata": {},
   "outputs": [],
   "source": [
    "df = pd.DataFrame(dfG_cov.m, index=[met.id for met in model.metabolites])\n",
    "df.loc['']"
   ]
  },
  {
   "cell_type": "code",
   "execution_count": null,
   "id": "7a167c72",
   "metadata": {},
   "outputs": [],
   "source": [
    "ThermoMetabolite\n",
    "\n",
    "#redox_couple = True/False\n",
    "#Redox_partner = ThermoMetabolite (in model)\n",
    "#midpont potential = \n",
    "#midpoint potential SE = \n",
    "\n",
    "#thsi could allow thermodynamically incocnistent cycles?\n",
    "\n",
    "\n",
    "#manually update the midpoint potential of a redox carrier in volts\n",
    "#calcualtions then consider this... \n",
    "#need to make sure if a value is set in the midpoint potnetial field the metabolite has no compound \n",
    "#in the thermo basis it needs dfG0' set by data \n",
    "#can midpoint potnetials be transformed to different conditions?\n",
    "#give a standard midpoint potential \n",
    "    #number of electrons and ptotons known\n",
    "    #calcualte transformed \n",
    "    #or give trsnaformed and calcualte back to normal?\n",
    "    \n",
    "    \n",
    "#warning potential thermodynamic inconsistency ensumre redox compounds are not synthesised in model "
   ]
  },
  {
   "cell_type": "code",
   "execution_count": null,
   "id": "4fb6a038",
   "metadata": {},
   "outputs": [],
   "source": [
    "def calc_dfG0(mets, cc):\n",
    "    \n",
    "    #make list of compound objects \n",
    "    #identify completely unknown metabolites \n",
    "    #identify specified redox carriers #hack until equilibrator assest can add new redox compounds \n",
    "    \n",
    "    \n",
    "    #calcualte dfG\n",
    "    \n",
    "    #populate completely unkown values with more reasonable estimates\n",
    "    \n",
    "    #populate redox carriers with data \n",
    "    \n",
    "    #adjust covariance to account for redox carriers \n",
    "    \n",
    "    #enforce correlation for unknown metabolites \n",
    "        #could check that metabolites with the same name or same id[:-2] have the same compound \n",
    "        #and metabolites with same name or id[:-2] are correlated in dfG space "
   ]
  },
  {
   "cell_type": "code",
   "execution_count": null,
   "id": "4e974cad",
   "metadata": {},
   "outputs": [],
   "source": [
    "def calc_dfG0_prime(mets, cc):"
   ]
  },
  {
   "cell_type": "code",
   "execution_count": null,
   "id": "cf78a7cf",
   "metadata": {},
   "outputs": [],
   "source": [
    "#fit unknown dfG0"
   ]
  }
 ],
 "metadata": {
  "kernelspec": {
   "display_name": "Python 3 (ipykernel)",
   "language": "python",
   "name": "python3"
  },
  "language_info": {
   "codemirror_mode": {
    "name": "ipython",
    "version": 3
   },
   "file_extension": ".py",
   "mimetype": "text/x-python",
   "name": "python",
   "nbconvert_exporter": "python",
   "pygments_lexer": "ipython3",
   "version": "3.9.13"
  }
 },
 "nbformat": 4,
 "nbformat_minor": 5
}
