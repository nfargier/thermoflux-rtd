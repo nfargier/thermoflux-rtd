{
 "cells": [
  {
   "cell_type": "code",
   "execution_count": 1,
   "id": "18c0312a",
   "metadata": {},
   "outputs": [],
   "source": [
    "import thermo_flux \n",
    "from thermo_flux.core.metabolite import ThermoMetabolite\n",
    "import cobra\n",
    "from cobra.core import Metabolite"
   ]
  },
  {
   "cell_type": "code",
   "execution_count": 2,
   "id": "03be9f20",
   "metadata": {},
   "outputs": [
    {
     "name": "stdout",
     "output_type": "stream",
     "text": [
      "Set parameter Username\n",
      "Academic license - for non-commercial use only - expires 2023-10-09\n"
     ]
    }
   ],
   "source": [
    "model = cobra.io.read_sbml_model('yeast.xml')\n"
   ]
  },
  {
   "cell_type": "code",
   "execution_count": 101,
   "id": "91e1e2a4",
   "metadata": {},
   "outputs": [
    {
     "data": {
      "text/html": [
       "\n",
       "        <table>\n",
       "            <tr>\n",
       "                <td><strong>Reaction identifier</strong></td><td>2OBUTtm-1</td>\n",
       "            </tr><tr>\n",
       "                <td><strong>Name</strong></td><td>2OBUTtm-1</td>\n",
       "            </tr><tr>\n",
       "                <td><strong>Memory address</strong></td>\n",
       "                <td>0x27555f2c070</td>\n",
       "            </tr><tr>\n",
       "                <td><strong>Stoichiometry</strong></td>\n",
       "                <td>\n",
       "                    <p style='text-align:right'>2obut_c + charge_m <=> 2obut_m + charge_c</p>\n",
       "                    <p style='text-align:right'>2obut + charge <=> 2obut + charge</p>\n",
       "                </td>\n",
       "            </tr><tr>\n",
       "                <td><strong>GPR</strong></td><td></td>\n",
       "            </tr><tr>\n",
       "                <td><strong>Lower bound</strong></td><td>-500.0</td>\n",
       "            </tr><tr>\n",
       "                <td><strong>Upper bound</strong></td><td>500.0</td>\n",
       "            </tr>\n",
       "        </table>\n",
       "        "
      ],
      "text/plain": [
       "<Reaction 2OBUTtm-1 at 0x27555f2c070>"
      ]
     },
     "execution_count": 101,
     "metadata": {},
     "output_type": "execute_result"
    }
   ],
   "source": [
    "model.reactions[0]"
   ]
  },
  {
   "cell_type": "code",
   "execution_count": 3,
   "id": "a0302e4f",
   "metadata": {},
   "outputs": [],
   "source": [
    "import importlib\n",
    "importlib.reload(thermo_flux.core.metabolite)\n",
    "from thermo_flux.core.metabolite import ThermoMetabolite\n"
   ]
  },
  {
   "cell_type": "code",
   "execution_count": 5,
   "id": "b9a75739",
   "metadata": {},
   "outputs": [
    {
     "data": {
      "text/html": [
       "\n",
       "        <table>\n",
       "            <tr>\n",
       "                <td><strong>Metabolite identifier</strong></td><td>10fthf_c</td>\n",
       "            </tr><tr>\n",
       "                <td><strong>Name</strong></td><td>10fthf</td>\n",
       "            </tr><tr>\n",
       "                <td><strong>Memory address</strong></td>\n",
       "                <td>0x275560f8ac0</td>\n",
       "            </tr><tr>\n",
       "                <td><strong>Formula</strong></td><td></td>\n",
       "            </tr><tr>\n",
       "                <td><strong>Compartment</strong></td><td>c</td>\n",
       "            </tr><tr>\n",
       "                <td><strong>In 0 reaction(s)</strong></td><td>\n",
       "                    \n",
       "                    </td>\n",
       "            </tr>\n",
       "        </table>"
      ],
      "text/plain": [
       "<ThermoMetabolite 10fthf_c at 0x275560f8ac0>"
      ]
     },
     "metadata": {},
     "output_type": "display_data"
    },
    {
     "name": "stdout",
     "output_type": "stream",
     "text": [
      "1e-06\n"
     ]
    },
    {
     "data": {
      "text/plain": [
       "0"
      ]
     },
     "execution_count": 5,
     "metadata": {},
     "output_type": "execute_result"
    }
   ],
   "source": [
    "met = model.metabolites[0]\n",
    "tmet= ThermoMetabolite(met, model=model)\n",
    "display(tmet)\n",
    "print(tmet.lower_bound)\n",
    "tmet.accession \n",
    "tmet.dfG "
   ]
  },
  {
   "cell_type": "code",
   "execution_count": 8,
   "id": "131340ab",
   "metadata": {},
   "outputs": [],
   "source": [
    "#importlib.reload(thermo_flux.core.reaction)\n",
    "from thermo_flux.core.reaction import ThermoReaction"
   ]
  },
  {
   "cell_type": "code",
   "execution_count": 9,
   "id": "0fa8aba9",
   "metadata": {},
   "outputs": [
    {
     "data": {
      "text/plain": [
       "0"
      ]
     },
     "execution_count": 9,
     "metadata": {},
     "output_type": "execute_result"
    }
   ],
   "source": [
    "rxn = model.reactions[0]\n",
    "trxn = ThermoReaction(rxn)\n",
    "trxn.drG_h_transport"
   ]
  },
  {
   "cell_type": "code",
   "execution_count": 85,
   "id": "2fbc525d",
   "metadata": {},
   "outputs": [],
   "source": [
    "importlib.reload(thermo_flux.core.model)\n",
    "from thermo_flux.core.model import ThermoModel"
   ]
  },
  {
   "cell_type": "code",
   "execution_count": 86,
   "id": "b73ccf32",
   "metadata": {},
   "outputs": [],
   "source": [
    "variables = {'Temperature (K)': 303.15, 'Nh(biomass) (mmol/gDW)': 67, 'dfG0(biomass) (KJ/gDW)': -3.040530303030303, 'pH': {'Extracellular [e]': 5, 'Cytosol [c]': 7, 'Mitochondria [m]': 7.4}, 'Ionic Strength (M)': {'Extracellular [e]': 0.2, 'Cytosol [c]': 0.2, 'Mitochondria [m]': 0.2}, 'Electrical membrane potential (V)': {'e|>|c ': -0.06, 'c|>|m': -0.16}, 'Default bounds for variables': False, 'Fluxes (mmol/gDW/h)': {'min': -500, 'max': 500}, 'Concentration (mM)': {'min': 0.001, 'max': 10}, 'sigmac(J/K/gDW/h)': {'min': 0, 'max': 100}, 'Physical constants': False, 'Gas constant [KJ/mol/K]': 0.008314, 'Faraday constant [KC/mol]': 96.49, 'Debye-Hückel constant A [M^(-1/2)]': 1.186, 'Debye-Hückel constant B [M^(-1/2)]': 1.6}"
   ]
  },
  {
   "cell_type": "code",
   "execution_count": 99,
   "id": "2d71ac07",
   "metadata": {},
   "outputs": [
    {
     "ename": "TypeError",
     "evalue": "thermo_flux.core.model.ThermoModel() got multiple values for keyword argument 'pH'",
     "output_type": "error",
     "traceback": [
      "\u001b[1;31m---------------------------------------------------------------------------\u001b[0m",
      "\u001b[1;31mTypeError\u001b[0m                                 Traceback (most recent call last)",
      "Cell \u001b[1;32mIn [99], line 1\u001b[0m\n\u001b[1;32m----> 1\u001b[0m tmodel \u001b[38;5;241m=\u001b[39m ThermoModel(model, pH \u001b[38;5;241m=\u001b[39m {\u001b[38;5;124m'\u001b[39m\u001b[38;5;124mc\u001b[39m\u001b[38;5;124m'\u001b[39m:\u001b[38;5;241m2\u001b[39m}, \u001b[38;5;241m*\u001b[39m\u001b[38;5;241m*\u001b[39mvariables)\n",
      "\u001b[1;31mTypeError\u001b[0m: thermo_flux.core.model.ThermoModel() got multiple values for keyword argument 'pH'"
     ]
    }
   ],
   "source": [
    "tmodel = ThermoModel(model, pH = {'c':2}, **variables)"
   ]
  },
  {
   "cell_type": "code",
   "execution_count": 100,
   "id": "ca5b65c5",
   "metadata": {},
   "outputs": [
    {
     "data": {
      "text/plain": [
       "{'c': 2}"
      ]
     },
     "execution_count": 100,
     "metadata": {},
     "output_type": "execute_result"
    }
   ],
   "source": [
    "tmodel.pH"
   ]
  },
  {
   "cell_type": "code",
   "execution_count": 74,
   "id": "6464908e",
   "metadata": {},
   "outputs": [
    {
     "data": {
      "text/plain": [
       "{'min': 0.001, 'max': 10}"
      ]
     },
     "execution_count": 74,
     "metadata": {},
     "output_type": "execute_result"
    }
   ],
   "source": [
    "getattr(tmodel, 'Concentration (mM)')"
   ]
  },
  {
   "cell_type": "code",
   "execution_count": 29,
   "id": "ef2a839b",
   "metadata": {},
   "outputs": [
    {
     "data": {
      "text/plain": [
       "frozenset({<ThermoReaction FTHFL at 0x275565f4940>,\n",
       "           <ThermoReaction MTHFC at 0x27556606760>,\n",
       "           <ThermoReaction ampSYN1 at 0x2755661a3d0>,\n",
       "           <ThermoReaction ampSYN2 at 0x2755661a400>,\n",
       "           <ThermoReaction gmpSYN1 at 0x2755661a790>,\n",
       "           <ThermoReaction gmpSYN2 at 0x2755661a7c0>})"
      ]
     },
     "execution_count": 29,
     "metadata": {},
     "output_type": "execute_result"
    }
   ],
   "source": [
    "tmodel.metabolites[0].reactions"
   ]
  },
  {
   "cell_type": "code",
   "execution_count": 30,
   "id": "2409a58b",
   "metadata": {},
   "outputs": [
    {
     "data": {
      "text/plain": [
       "{'c': 3}"
      ]
     },
     "execution_count": 30,
     "metadata": {},
     "output_type": "execute_result"
    }
   ],
   "source": [
    "tmodel.pH"
   ]
  },
  {
   "cell_type": "code",
   "execution_count": 31,
   "id": "67634478",
   "metadata": {},
   "outputs": [
    {
     "data": {
      "text/plain": [
       "{'ce': -10}"
      ]
     },
     "execution_count": 31,
     "metadata": {},
     "output_type": "execute_result"
    }
   ],
   "source": [
    "tmodel.phi"
   ]
  },
  {
   "cell_type": "code",
   "execution_count": 32,
   "id": "adaa07f6",
   "metadata": {},
   "outputs": [],
   "source": [
    "tmodel.phi = {'ce':10,'ec':-10}"
   ]
  },
  {
   "cell_type": "code",
   "execution_count": 18,
   "id": "b4508a07",
   "metadata": {},
   "outputs": [
    {
     "data": {
      "text/plain": [
       "{'c': {'c': 0, 'm': 0, 'e': 10},\n",
       " 'm': {'c': 0, 'm': 0, 'e': 0},\n",
       " 'e': {'c': -10, 'm': 0, 'e': 0}}"
      ]
     },
     "execution_count": 18,
     "metadata": {},
     "output_type": "execute_result"
    }
   ],
   "source": [
    "tmodel.phi_dict"
   ]
  },
  {
   "cell_type": "code",
   "execution_count": 19,
   "id": "9efb0e85",
   "metadata": {},
   "outputs": [],
   "source": [
    "tmodel.phi = {'ce': 10, 'ec': -10}"
   ]
  },
  {
   "cell_type": "code",
   "execution_count": null,
   "id": "a8290948",
   "metadata": {},
   "outputs": [],
   "source": []
  },
  {
   "cell_type": "code",
   "execution_count": null,
   "id": "2cfb7dfc",
   "metadata": {},
   "outputs": [],
   "source": []
  }
 ],
 "metadata": {
  "kernelspec": {
   "display_name": "Python 3 (ipykernel)",
   "language": "python",
   "name": "python3"
  },
  "language_info": {
   "codemirror_mode": {
    "name": "ipython",
    "version": 3
   },
   "file_extension": ".py",
   "mimetype": "text/x-python",
   "name": "python",
   "nbconvert_exporter": "python",
   "pygments_lexer": "ipython3",
   "version": "3.9.13"
  }
 },
 "nbformat": 4,
 "nbformat_minor": 5
}
